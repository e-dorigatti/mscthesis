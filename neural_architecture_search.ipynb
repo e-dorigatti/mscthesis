{
 "cells": [
  {
   "cell_type": "markdown",
   "metadata": {},
   "source": [
    "based on https://arxiv.org/pdf/1611.01578.pdf\n",
    "\n",
    "at every step, the RNN outputs two vectors, representing probability distributions for\n",
    " - type of layer: can be fully connected, skip connection, dropout, or end of network\n",
    " - argument for the layer: can be dropout probability, number of layers to skip (backwards), or number of neurons"
   ]
  },
  {
   "cell_type": "code",
   "execution_count": 1,
   "metadata": {},
   "outputs": [],
   "source": [
    "import tensorflow as tf\n",
    "import numpy as np\n",
    "import matplotlib.pyplot as plt\n",
    "import numpy as np\n",
    "from IPython.display import clear_output\n",
    "from sklearn.model_selection import train_test_split\n",
    "from sklearn.utils import shuffle\n",
    "import pandas as pd\n",
    "import time"
   ]
  },
  {
   "cell_type": "code",
   "execution_count": 2,
   "metadata": {
    "scrolled": false
   },
   "outputs": [],
   "source": [
    "class ControllerRNN:\n",
    "    def __init__(self, max_len, batch_size, type_size, arg_size,\n",
    "                 learning_rate=0.001, hidden_size=32, baseline_smoothing=0.95):\n",
    "        self.hidden_size = hidden_size\n",
    "        self.unroll_by = max_len\n",
    "        self.batch_size = batch_size\n",
    "        self.learning_rate = learning_rate\n",
    "        self.type_size = type_size + 1  # 0 is for end-of-network token\n",
    "        self.arg_size = arg_size\n",
    "        self.baseline_smoothing = baseline_smoothing\n",
    "\n",
    "    def build(self):\n",
    "        # reward for the architectures\n",
    "        self.architecture_reward = tf.placeholder(tf.float32, [self.batch_size])\n",
    "        \n",
    "        # exponential moving average of the reward\n",
    "        self.last_average_reward = tf.reduce_mean(self.architecture_reward)\n",
    "        self.reward_ema = tf.train.ExponentialMovingAverage(self.baseline_smoothing)\n",
    "        self.update_reward_ema = self.reward_ema.apply([self.last_average_reward])\n",
    "\n",
    "        rnn = tf.contrib.rnn.GRUCell(self.hidden_size)\n",
    "        state = tf.random_normal([self.batch_size, rnn.state_size])\n",
    "        \n",
    "        # weight matrices to transform from rnn output to layer type and discrete arg\n",
    "        rnn_to_layer_type_weight = tf.Variable(tf.random_normal([rnn.output_size, self.type_size]))\n",
    "        rnn_to_layer_type_gradient = []\n",
    "        rnn_to_layer_arg_weight = tf.Variable(tf.random_normal([rnn.output_size, self.arg_size]))\n",
    "        rnn_to_layer_arg_gradient = []\n",
    "\n",
    "        # rnn output and gradients\n",
    "        output = tf.random_normal([self.batch_size, rnn.output_size])\n",
    "\n",
    "        # layer_probs contains the output from the network, namely the probabilities\n",
    "        # of type and argument for every layer of every network\n",
    "        self.layer_probs = []\n",
    "\n",
    "        # layer_indicators contains one-hot indicators of type and argument\n",
    "        # for every layer of every network.\n",
    "        # used to select which action is used to compute the gradient.\n",
    "        # fixed, must be set before updating the weights\n",
    "        self.layer_indicators = []\n",
    "\n",
    "        losses = []\n",
    "        \n",
    "        for i in range(self.unroll_by):\n",
    "            # run rnn cell\n",
    "            output, state = rnn(output, state)\n",
    "\n",
    "            if i == 0:  # gru variables are only initialized now\n",
    "                rnn_params = rnn.trainable_variables + rnn.trainable_weights\n",
    "                rnn_gradients = [[] for _ in range(len(rnn_params))]\n",
    "\n",
    "            # compute output probabilites\n",
    "            layer_type = tf.nn.softmax(tf.matmul(output, rnn_to_layer_type_weight))\n",
    "            layer_arg = tf.nn.softmax(tf.matmul(output, rnn_to_layer_arg_weight))\n",
    "            chosen_layer_type = tf.placeholder(tf.int32, self.batch_size)\n",
    "            chosen_layer_arg = tf.placeholder(tf.int32, self.batch_size)\n",
    "            self.layer_probs.append((layer_type, layer_arg))\n",
    "            self.layer_indicators.append((chosen_layer_type, chosen_layer_arg))\n",
    "\n",
    "            # aggregate gradients\n",
    "            baseline = self.reward_ema.average(self.last_average_reward)\n",
    "            prob = (self.last_average_reward - baseline) * (\n",
    "                tf.reduce_sum(\n",
    "                    tf.one_hot(chosen_layer_type, depth=self.type_size) * tf.log(layer_type + 1e-12),\n",
    "                    axis=1\n",
    "                ) + tf.reduce_sum(\n",
    "                    tf.one_hot(chosen_layer_arg, depth=self.arg_size) * tf.log(layer_arg + 1e-12),\n",
    "                    axis=1\n",
    "                )\n",
    "            )\n",
    "            losses.append(prob)\n",
    "\n",
    "            rnn_to_layer_arg_gradient.append(tf.gradients(prob, rnn_to_layer_arg_weight)[0])\n",
    "            rnn_to_layer_type_gradient.append(tf.gradients(prob, rnn_to_layer_type_weight)[0])\n",
    "            for param, grad in zip(rnn_params, rnn_gradients):\n",
    "                grad.append(tf.gradients(prob, param)[0])\n",
    "\n",
    "        self.loss = tf.reduce_mean(losses)\n",
    "\n",
    "        def sanitize_gradient(grads):\n",
    "            avg = sum(grads) / len(grads)\n",
    "            return tf.clip_by_norm(avg, 1.0)\n",
    "\n",
    "        optimizer = tf.train.AdamOptimizer(self.learning_rate)\n",
    "        self.optimize = optimizer.apply_gradients([\n",
    "            (sanitize_gradient(grad), param)\n",
    "            for param, grad in zip(rnn_params, rnn_gradients)\n",
    "        ] + [\n",
    "            (sanitize_gradient(rnn_to_layer_type_gradient), rnn_to_layer_type_weight),\n",
    "            (sanitize_gradient(rnn_to_layer_arg_gradient), rnn_to_layer_arg_weight),\n",
    "        ])\n",
    "\n",
    "    def generate_architecture(self, session):\n",
    "        layers = session.run(self.layer_probs)\n",
    "        networks = [[] for _ in range(self.batch_size)]\n",
    "        for (ltype, larg) in layers:\n",
    "            for i, (nnet, type_prob, arg_prob) in enumerate(zip(networks, ltype, larg)):\n",
    "                # the network always has at least one layer\n",
    "                if nnet and nnet[-1][0] == 0:\n",
    "                    continue\n",
    "\n",
    "                assert all(np.isfinite(type_prob))\n",
    "                assert all(np.isfinite(arg_prob))\n",
    "\n",
    "                layer_type = np.random.choice(len(type_prob), p=type_prob)\n",
    "                layer_arg = np.random.choice(len(arg_prob), p=arg_prob)\n",
    "                nnet.append((layer_type, layer_arg))\n",
    "\n",
    "        return networks\n",
    "\n",
    "    def learn_from_rewards(self, sess, networks, rewards):\n",
    "        assert len(rewards) == self.batch_size\n",
    "\n",
    "        # set the indicator variables, telling which action was chosen\n",
    "        feed_dict = {ind: []\n",
    "                     for layer_ind in self.layer_indicators\n",
    "                     for ind in layer_ind}\n",
    "\n",
    "        for nnet in networks:\n",
    "            # pad network if shorter than expected\n",
    "            # we set the indicators to -1, so that all one hot will be 0\n",
    "            # thus not contributing to the gradient\n",
    "            if len(nnet) < self.unroll_by:\n",
    "                nnet = nnet + [(-1, -1)] * (self.unroll_by - len(nnet))\n",
    "\n",
    "            assert len(nnet) == self.unroll_by\n",
    "            for (itype, iarg), (ntype, narg) in zip(self.layer_indicators, nnet):\n",
    "                feed_dict[itype].append(ntype)\n",
    "                feed_dict[iarg].append(narg)\n",
    "\n",
    "        feed_dict[self.architecture_reward] = rewards\n",
    "        loss, _, _ = sess.run([self.loss, self.update_reward_ema, self.optimize],\n",
    "                              feed_dict=feed_dict)\n",
    "        return loss"
   ]
  },
  {
   "cell_type": "markdown",
   "metadata": {},
   "source": [
    "we can test this controller with a very simple and quick task: generate a 4 layer neural network with the following layer arguments: $(4,3,2,1)$ and the following layer types: $(1,2,1,2)$. the goodness of a candidate architecture is simply the mean squared error between it and the target architecture"
   ]
  },
  {
   "cell_type": "code",
   "execution_count": 161,
   "metadata": {},
   "outputs": [],
   "source": [
    "def evaluate_architecture(arch):\n",
    "    target_depth = 4\n",
    "    \n",
    "    target_arch = np.zeros((controller.unroll_by, 2))\n",
    "    target_arch[:target_depth, 0] = [1 + i % 2 for i in range(target_depth)]\n",
    "    target_arch[:target_depth, 1] = [target_depth - i + 1 for i in range(target_depth)]\n",
    "\n",
    "    full_arch = np.zeros((controller.unroll_by, 2))\n",
    "    full_arch[:len(arch), :] = arch\n",
    "\n",
    "    return np.mean((full_arch - target_arch)**2)\n",
    "\n",
    "controller = ControllerRNN(\n",
    "    max_len=10,\n",
    "    batch_size=2,\n",
    "    type_size=2,\n",
    "    arg_size=10,\n",
    "    learning_rate=0.001,\n",
    "    baseline_smoothing=0.9,\n",
    ")\n",
    "\n",
    "hist = []\n",
    "with tf.Graph().as_default():\n",
    "    controller.build()\n",
    "\n",
    "    with tf.Session() as sess:\n",
    "        sess.run(tf.global_variables_initializer())\n",
    "\n",
    "        rs = []\n",
    "        for i in range(10000):\n",
    "            networks = controller.generate_architecture(sess)\n",
    "            rewards = list(map(evaluate_architecture, networks))\n",
    "            loss = controller.learn_from_rewards(sess, networks, rewards)\n",
    "            \n",
    "            rs.extend(rewards)\n",
    "            if i % 100 == 0:\n",
    "                hist.append((np.mean(rs), loss**2))\n",
    "                print(i, hist[-1])\n",
    "                rs = []\n",
    "\n",
    "clear_output()"
   ]
  },
  {
   "cell_type": "code",
   "execution_count": 82,
   "metadata": {
    "scrolled": false
   },
   "outputs": [
    {
     "data": {
      "text/plain": [
       "<matplotlib.axes._subplots.AxesSubplot at 0x7f5d53b83860>"
      ]
     },
     "execution_count": 82,
     "metadata": {},
     "output_type": "execute_result"
    },
    {
     "data": {
      "image/png": "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\n",
      "text/plain": [
       "<Figure size 432x288 with 1 Axes>"
      ]
     },
     "metadata": {},
     "output_type": "display_data"
    },
    {
     "data": {
      "image/png": "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\n",
      "text/plain": [
       "<Figure size 432x288 with 1 Axes>"
      ]
     },
     "metadata": {},
     "output_type": "display_data"
    }
   ],
   "source": [
    "res = pd.DataFrame(hist, columns=('mean_reward', 'loss')).reset_index()\n",
    "res.plot('index', 'mean_reward', logy=True)\n",
    "res.plot('index', 'loss', logy=True)"
   ]
  },
  {
   "cell_type": "markdown",
   "metadata": {},
   "source": [
    "awesome\n",
    "\n",
    "we can try building a real neural network, then! for simplicity, we ignore the layer type, since we test on a very simple problem, and use only fully connected layers.\n",
    "\n",
    "we create 10 independent and normally distributed features, and compute the output using only two of them. this creates high risk of overfitting, because random networks are too big and do not generalize. in fact, a simple network with one hidden layer of 5 neurons easily achieves 0.001 validation mse, whereas a 4 hidden layers network overfits and gets stuck at 0.2"
   ]
  },
  {
   "cell_type": "code",
   "execution_count": 3,
   "metadata": {},
   "outputs": [],
   "source": [
    "def target_function(x, y):\n",
    "    return np.sin(x) * np.cos(y)# + np.random.normal(scale=0.001, size=len(x))\n",
    "\n",
    "data_x = np.random.normal(size=(100, 5))\n",
    "data_y = target_function(data_x[:, 0], data_x[:, 1])\n",
    "\n",
    "train_x, test_x, train_y, test_y = train_test_split(data_x, data_y, test_size=0.2)"
   ]
  },
  {
   "cell_type": "code",
   "execution_count": 4,
   "metadata": {},
   "outputs": [
    {
     "name": "stdout",
     "output_type": "stream",
     "text": [
      "small network 0.0879716\n",
      "large network 0.261846\n"
     ]
    }
   ],
   "source": [
    "class SimpleFCNetwork:\n",
    "    def __init__(self):\n",
    "        self.learning_rate = 0.01\n",
    "\n",
    "    def make_weights(self, rows, cols, mag=0.1):\n",
    "        weights = tf.Variable(tf.random_uniform([rows, cols], -mag, mag))\n",
    "        bias = tf.Variable(tf.constant(mag * (2 * np.random.random() - 1), shape=[1, cols]))\n",
    "        self.variables.append(weights)\n",
    "        self.variables.append(bias)\n",
    "        return weights, bias\n",
    "\n",
    "    @staticmethod\n",
    "    def compute_next_layer(input_layer, weights, bias, activation=tf.nn.relu):\n",
    "        h = tf.matmul(input_layer, weights) + bias\n",
    "        output = activation(h) if activation else tf.identity(h)\n",
    "        return output\n",
    "\n",
    "    def build(self, input_shape, layers):\n",
    "        self.input = tf.placeholder(tf.float32, [None, input_shape])\n",
    "        self.label = tf.placeholder(tf.float32, [None, 1])\n",
    "\n",
    "        self.variables = []\n",
    "        last_layer, last_size = self.input, input_shape\n",
    "        for layer_type, layer_arg in layers:\n",
    "            if layer_type == 1:\n",
    "                ws, bs = self.make_weights(last_size, layer_arg)\n",
    "                last_layer = self.compute_next_layer(last_layer, ws, bs)\n",
    "                last_size = layer_arg\n",
    "            else:\n",
    "                last_layer = tf.nn.dropout(\n",
    "                    last_layer, keep_prob=(layer_arg + 1) / 10\n",
    "                )\n",
    "\n",
    "        ws, bs = self.make_weights(last_size, 1)\n",
    "        self.output = self.compute_next_layer(last_layer, ws, bs, activation=None)\n",
    "        self.loss = tf.reduce_mean(tf.squared_difference(self.output, self.label))\n",
    "        optimizer = tf.train.AdamOptimizer(self.learning_rate)\n",
    "        self.optimize = optimizer.minimize(self.loss)\n",
    "        \n",
    "        return self\n",
    "\n",
    "    def train_on_batch(self, sess, batch_x, batch_y):\n",
    "        loss, _ = sess.run([self.loss, self.optimize], feed_dict={\n",
    "            self.input: batch_x,\n",
    "            self.label: batch_y.reshape(-1, 1),\n",
    "        })\n",
    "        return loss\n",
    "\n",
    "    def test_on_batch(self, sess, batch_x, batch_y):\n",
    "        return sess.run(self.loss, feed_dict={\n",
    "            self.input: batch_x,\n",
    "            self.label: batch_y.reshape(-1, 1),\n",
    "        })\n",
    "\n",
    "\n",
    "def evaluate_architecture(sess, nnet, batch_size=32, max_epochs=100, verbose=0):\n",
    "    for ep in range(max_epochs):\n",
    "        # perform a full epoch on training data\n",
    "        sh_train_x, sh_train_y = shuffle(train_x, train_y)\n",
    "        for batch_start in range(0, train_x.shape[0], batch_size):\n",
    "            ll = nnet.train_on_batch(\n",
    "                sess,\n",
    "                sh_train_x[batch_start:batch_start + batch_size],\n",
    "                sh_train_y[batch_start:batch_start + batch_size],\n",
    "            )\n",
    "        \n",
    "        # evaluate on test data\n",
    "        val_err = np.mean([\n",
    "            nnet.test_on_batch(\n",
    "                sess,\n",
    "                test_x[batch_start:batch_start + batch_size],\n",
    "                test_y[batch_start:batch_start + batch_size],\n",
    "            ) for batch_start in range(0, test_x.shape[0], batch_size)\n",
    "        ])\n",
    "        \n",
    "        if verbose > 0:\n",
    "            print(ep, val_err)\n",
    "    \n",
    "    return val_err\n",
    "\n",
    "\n",
    "with tf.Graph().as_default():\n",
    "    small_nnet = SimpleFCNetwork().build(train_x.shape[1], [(1, 5)])\n",
    "    large_nnet = SimpleFCNetwork().build(train_x.shape[1], [(1, 10) for i in range(6)])\n",
    "    \n",
    "    with tf.Session() as sess:\n",
    "        initializer = tf.global_variables_initializer()\n",
    "        sess.run(initializer)\n",
    "\n",
    "        print('small network', evaluate_architecture(sess, small_nnet))\n",
    "        print('large network', evaluate_architecture(sess, large_nnet))"
   ]
  },
  {
   "cell_type": "code",
   "execution_count": 5,
   "metadata": {},
   "outputs": [],
   "source": [
    "class MovingAverages:\n",
    "    def __init__(self):\n",
    "        self.metrics = {}\n",
    "        self.smoothing = {}\n",
    "        self.snapshots = []\n",
    "    \n",
    "    def update(self, metric, value, smoothing=None):\n",
    "        if smoothing is None:\n",
    "            smoothing = self.smoothing.get(metric, 0.6)\n",
    "        self.smoothing[metric] = smoothing\n",
    "        \n",
    "        # can pass None to update smoothing\n",
    "        if value is not None:\n",
    "            self.metrics[metric] = (\n",
    "                smoothing * self.metrics.get(metric, value)\n",
    "                + (1 - smoothing) * value\n",
    "            )\n",
    "        return self.metrics[metric]\n",
    "    \n",
    "    def update_all(self, **metrics):\n",
    "        for metric, value in metrics.items():\n",
    "            self.update(metric, value)\n",
    "        return [self.metrics[m] for m in metrics]\n",
    "    \n",
    "    def snapshot(self, **meta):\n",
    "        snap = dict(self.metrics)\n",
    "        snap.update(meta)\n",
    "        self.snapshots.append(snap)\n",
    "        return snap"
   ]
  },
  {
   "cell_type": "code",
<<<<<<< HEAD
   "execution_count": 7,
=======
   "execution_count": null,
>>>>>>> 1722517c1897df950deeac280cc720cafd77ef6e
   "metadata": {
    "scrolled": false
   },
   "outputs": [],
   "source": [
    "controller = ControllerRNN(\n",
    "    hidden_size=64,\n",
    "    max_len=5,\n",
    "    batch_size=4,\n",
    "    type_size=2,\n",
    "    arg_size=10,\n",
    "    learning_rate=0.001,\n",
    "    baseline_smoothing=0.99,\n",
    ")\n",
    "\n",
    "\n",
    "hist = []\n",
    "controller_graph = tf.Graph()\n",
    "with controller_graph.as_default():\n",
    "    controller.build()\n",
    "    controller_session = tf.Session(config=tf.ConfigProto(device_count={'GPU': 0}),\n",
    "                                    graph=controller_graph)\n",
    "    controller_session.run(tf.global_variables_initializer())\n",
    "\n",
    "averages = MovingAverages()\n",
    "averages.smoothing['time'] = 0\n",
    "start_time = time.time()\n",
    "for i in range(10000):\n",
    "    architectures = controller.generate_architecture(controller_session)\n",
    "\n",
    "    # test architectures on a temporary graph\n",
    "    with tf.Graph().as_default():\n",
    "        networks = [\n",
    "            SimpleFCNetwork().build(train_x.shape[1], arch)\n",
    "            for arch in architectures\n",
    "        ]\n",
    "\n",
    "        with tf.Session(config=tf.ConfigProto(device_count={'GPU': 0})) as sess:\n",
    "            sess.run(tf.global_variables_initializer())\n",
    "            rewards = [\n",
    "                evaluate_architecture(\n",
    "                    sess, nnet, verbose=0\n",
    "                ) for nnet in networks\n",
    "            ]\n",
    "\n",
    "    loss = controller.learn_from_rewards(\n",
    "        controller_session, architectures, rewards\n",
    "    )\n",
    "\n",
    "    averages.update_all(\n",
    "        contro_loss=loss**2,\n",
    "        inner_mse=np.mean(rewards),\n",
    "        inner_mse_std=np.std(rewards),\n",
    "        length=np.mean(list(map(len, architectures))),\n",
    "        size=np.mean([sum(n for _, n in arch) for arch in architectures]),\n",
    "    )\n",
    "\n",
    "    if i % 25 == 0:\n",
    "        snap = averages.snapshot(i=i, time=time.time() - start_time)\n",
    "        print('  '.join(\n",
    "            '%s=%.3f' % metric for metric in snap.items()\n",
    "        ))\n",
    "\n",
    "clear_output()"
   ]
  },
  {
   "cell_type": "code",
   "execution_count": 8,
   "metadata": {},
   "outputs": [
    {
     "data": {
      "text/plain": [
       "<matplotlib.axes._subplots.AxesSubplot at 0x1957e7f43c8>"
      ]
     },
     "execution_count": 8,
     "metadata": {},
     "output_type": "execute_result"
    },
    {
     "data": {
      "image/png": "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\n",
      "text/plain": [
       "<matplotlib.figure.Figure at 0x195849073c8>"
      ]
     },
     "metadata": {},
     "output_type": "display_data"
    },
    {
     "data": {
      "image/png": "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\n",
      "text/plain": [
       "<matplotlib.figure.Figure at 0x19584907160>"
      ]
     },
     "metadata": {},
     "output_type": "display_data"
    }
   ],
   "source": [
    "res = pd.DataFrame(averages.snapshots)\n",
    "res.plot('i', 'inner_mse', logy=True, yerr='inner_mse_std')\n",
    "res.plot('i', 'contro_loss', logy=True)"
   ]
  },
  {
   "cell_type": "markdown",
   "metadata": {},
   "source": [
    "soooo cool"
   ]
  }
 ],
 "metadata": {
  "kernelspec": {
   "display_name": "Python 3",
   "language": "python",
   "name": "python3"
  },
  "language_info": {
   "codemirror_mode": {
    "name": "ipython",
    "version": 3
   },
   "file_extension": ".py",
   "mimetype": "text/x-python",
   "name": "python",
   "nbconvert_exporter": "python",
   "pygments_lexer": "ipython3",
   "version": "3.6.4"
  }
 },
 "nbformat": 4,
 "nbformat_minor": 2
}
