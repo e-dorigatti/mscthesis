{
 "cells": [
  {
   "cell_type": "markdown",
   "metadata": {},
   "source": [
    "based on https://arxiv.org/pdf/1611.01578.pdf\n",
    "\n",
    "at every step, the RNN outputs two vectors, representing probability distributions for\n",
    " - type of layer: can be fully connected, skip connection, dropout, or end of network\n",
    " - argument for the layer: can be dropout probability, number of layers to skip (backwards), or number of neurons"
   ]
  },
  {
   "cell_type": "code",
   "execution_count": 147,
   "metadata": {},
   "outputs": [],
   "source": [
    "import tensorflow as tf\n",
    "import numpy as np\n",
    "import matplotlib.pyplot as plt\n",
    "import numpy as np\n",
    "from IPython.display import clear_output\n",
    "from sklearn.model_selection import train_test_split\n",
    "from sklearn.utils import shuffle\n",
    "import pandas as pd\n",
    "import time"
   ]
  },
  {
   "cell_type": "code",
   "execution_count": 49,
   "metadata": {
    "scrolled": false
   },
   "outputs": [],
   "source": [
    "class ControllerRNN:\n",
    "    def __init__(self, max_len, batch_size, type_size, arg_size,\n",
    "                 learning_rate=0.001, hidden_size=32, baseline_smoothing=0.95):\n",
    "        self.hidden_size = hidden_size\n",
    "        self.unroll_by = max_len\n",
    "        self.batch_size = batch_size\n",
    "        self.learning_rate = learning_rate\n",
    "        self.type_size = type_size + 1  # 0 is for end-of-network token\n",
    "        self.arg_size = arg_size\n",
    "        self.baseline_smoothing = baseline_smoothing\n",
    "\n",
    "    def build(self):\n",
    "        # reward for the architectures\n",
    "        self.architecture_reward = tf.placeholder(tf.float32, [self.batch_size])\n",
    "        \n",
    "        # exponential moving average of the reward\n",
    "        self.last_average_reward = tf.reduce_mean(self.architecture_reward)\n",
    "        self.reward_ema = tf.train.ExponentialMovingAverage(self.baseline_smoothing)\n",
    "        self.update_reward_ema = self.reward_ema.apply([self.last_average_reward])\n",
    "\n",
    "        rnn = tf.contrib.rnn.GRUCell(self.hidden_size)\n",
    "        state = tf.random_normal([self.batch_size, rnn.state_size])\n",
    "        \n",
    "        # weight matrices to transform from rnn output to layer type and discrete arg\n",
    "        rnn_to_layer_type_weight = tf.Variable(tf.random_normal([rnn.output_size, self.type_size]))\n",
    "        rnn_to_layer_type_gradient = []\n",
    "        rnn_to_layer_arg_weight = tf.Variable(tf.random_normal([rnn.output_size, self.arg_size]))\n",
    "        rnn_to_layer_arg_gradient = []\n",
    "\n",
    "        # rnn output and gradients\n",
    "        output = tf.random_normal([self.batch_size, rnn.output_size])\n",
    "\n",
    "        # layer_probs contains the output from the network, namely the probabilities\n",
    "        # of type and argument for every layer of every network\n",
    "        self.layer_probs = []\n",
    "\n",
    "        # layer_indicators contains one-hot indicators of type and argument\n",
    "        # for every layer of every network.\n",
    "        # used to select which action is used to compute the gradient.\n",
    "        # fixed, must be set before updating the weights\n",
    "        self.layer_indicators = []\n",
    "\n",
    "        losses = []\n",
    "        \n",
    "        for i in range(self.unroll_by):\n",
    "            # run rnn cell\n",
    "            output, state = rnn(output, state)\n",
    "\n",
    "            if i == 0:  # gru variables are only initialized now\n",
    "                rnn_params = rnn.trainable_variables + rnn.trainable_weights\n",
    "                rnn_gradients = [[] for _ in range(len(rnn_params))]\n",
    "\n",
    "            # compute output probabilites\n",
    "            layer_type = tf.nn.softmax(tf.matmul(output, rnn_to_layer_type_weight))\n",
    "            layer_arg = tf.nn.softmax(tf.matmul(output, rnn_to_layer_arg_weight))\n",
    "            chosen_layer_type = tf.placeholder(tf.int32, self.batch_size)\n",
    "            chosen_layer_arg = tf.placeholder(tf.int32, self.batch_size)\n",
    "            self.layer_probs.append((layer_type, layer_arg))\n",
    "            self.layer_indicators.append((chosen_layer_type, chosen_layer_arg))\n",
    "\n",
    "            # aggregate gradients\n",
    "            baseline = self.reward_ema.average(self.last_average_reward)\n",
    "            prob = (self.last_average_reward - baseline) * (\n",
    "                tf.reduce_sum(\n",
    "                    tf.one_hot(chosen_layer_type, depth=self.type_size) * tf.log(layer_type + 1e-12),\n",
    "                    axis=1\n",
    "                ) + tf.reduce_sum(\n",
    "                    tf.one_hot(chosen_layer_arg, depth=self.arg_size) * tf.log(layer_arg + 1e-12),\n",
    "                    axis=1\n",
    "                )\n",
    "            )\n",
    "            losses.append(prob)\n",
    "\n",
    "            rnn_to_layer_arg_gradient.append(tf.gradients(prob, rnn_to_layer_arg_weight)[0])\n",
    "            rnn_to_layer_type_gradient.append(tf.gradients(prob, rnn_to_layer_type_weight)[0])\n",
    "            for param, grad in zip(rnn_params, rnn_gradients):\n",
    "                grad.append(tf.gradients(prob, param)[0])\n",
    "\n",
    "        self.loss = tf.reduce_mean(losses)\n",
    "\n",
    "        def sanitize_gradient(grads):\n",
    "            avg = sum(grads) / len(grads)\n",
    "            return tf.clip_by_norm(avg, 1.0)\n",
    "\n",
    "        optimizer = tf.train.AdamOptimizer(self.learning_rate)\n",
    "        self.optimize = optimizer.apply_gradients([\n",
    "            (sanitize_gradient(grad), param)\n",
    "            for param, grad in zip(rnn_params, rnn_gradients)\n",
    "        ] + [\n",
    "            (sanitize_gradient(rnn_to_layer_type_gradient), rnn_to_layer_type_weight),\n",
    "            (sanitize_gradient(rnn_to_layer_arg_gradient), rnn_to_layer_arg_weight),\n",
    "        ])\n",
    "\n",
    "    def generate_architecture(self, session):\n",
    "        layers = session.run(self.layer_probs)\n",
    "        networks = [[] for _ in range(self.batch_size)]\n",
    "        for (ltype, larg) in layers:\n",
    "            for i, (nnet, type_prob, arg_prob) in enumerate(zip(networks, ltype, larg)):\n",
    "                # the network always has at least one layer\n",
    "                if nnet and nnet[-1][0] == 0:\n",
    "                    continue\n",
    "\n",
    "                assert all(np.isfinite(type_prob))\n",
    "                assert all(np.isfinite(arg_prob))\n",
    "\n",
    "                layer_type = np.random.choice(len(type_prob), p=type_prob)\n",
    "                layer_arg = np.random.choice(len(arg_prob), p=arg_prob)\n",
    "                nnet.append((layer_type, layer_arg))\n",
    "\n",
    "        return networks\n",
    "\n",
    "    def learn_from_rewards(self, sess, networks, rewards):\n",
    "        assert len(rewards) == self.batch_size\n",
    "\n",
    "        # set the indicator variables, telling which action was chosen\n",
    "        feed_dict = {ind: []\n",
    "                     for layer_ind in self.layer_indicators\n",
    "                     for ind in layer_ind}\n",
    "\n",
    "        for nnet in networks:\n",
    "            # pad network if shorter than expected\n",
    "            # we set the indicators to -1, so that all one hot will be 0\n",
    "            # thus not contributing to the gradient\n",
    "            if len(nnet) < self.unroll_by:\n",
    "                nnet = nnet + [(-1, -1)] * (self.unroll_by - len(nnet))\n",
    "\n",
    "            assert len(nnet) == self.unroll_by\n",
    "            for (itype, iarg), (ntype, narg) in zip(self.layer_indicators, nnet):\n",
    "                feed_dict[itype].append(ntype)\n",
    "                feed_dict[iarg].append(narg)\n",
    "\n",
    "        feed_dict[self.architecture_reward] = rewards\n",
    "        loss, _, _ = sess.run([self.loss, self.update_reward_ema, self.optimize],\n",
    "                              feed_dict=feed_dict)\n",
    "        return loss"
   ]
  },
  {
   "cell_type": "markdown",
   "metadata": {},
   "source": [
    "we can test this controller with a very simple and quick task: generate a 4 layer neural network with the following layer arguments: $(4,3,2,1)$ and the following layer types: $(1,2,1,2)$. the goodness of a candidate architecture is simply the mean squared error between it and the target architecture"
   ]
  },
  {
   "cell_type": "code",
   "execution_count": 161,
   "metadata": {},
   "outputs": [],
   "source": [
    "def evaluate_architecture(arch):\n",
    "    target_depth = 4\n",
    "    \n",
    "    target_arch = np.zeros((controller.unroll_by, 2))\n",
    "    target_arch[:target_depth, 0] = [1 + i % 2 for i in range(target_depth)]\n",
    "    target_arch[:target_depth, 1] = [target_depth - i + 1 for i in range(target_depth)]\n",
    "\n",
    "    full_arch = np.zeros((controller.unroll_by, 2))\n",
    "    full_arch[:len(arch), :] = arch\n",
    "\n",
    "    return np.mean((full_arch - target_arch)**2)\n",
    "\n",
    "controller = ControllerRNN(\n",
    "    max_len=10,\n",
    "    batch_size=2,\n",
    "    type_size=2,\n",
    "    arg_size=10,\n",
    "    learning_rate=0.001,\n",
    "    baseline_smoothing=0.9,\n",
    ")\n",
    "\n",
    "hist = []\n",
    "with tf.Graph().as_default():\n",
    "    controller.build()\n",
    "\n",
    "    with tf.Session() as sess:\n",
    "        sess.run(tf.global_variables_initializer())\n",
    "\n",
    "        rs = []\n",
    "        for i in range(10000):\n",
    "            networks = controller.generate_architecture(sess)\n",
    "            rewards = list(map(evaluate_architecture, networks))\n",
    "            loss = controller.learn_from_rewards(sess, networks, rewards)\n",
    "            \n",
    "            rs.extend(rewards)\n",
    "            if i % 100 == 0:\n",
    "                hist.append((np.mean(rs), loss**2))\n",
    "                print(i, hist[-1])\n",
    "                rs = []\n",
    "\n",
    "clear_output()"
   ]
  },
  {
   "cell_type": "code",
   "execution_count": 82,
   "metadata": {
    "scrolled": false
   },
   "outputs": [
    {
     "data": {
      "text/plain": [
       "<matplotlib.axes._subplots.AxesSubplot at 0x7f5d53b83860>"
      ]
     },
     "execution_count": 82,
     "metadata": {},
     "output_type": "execute_result"
    },
    {
     "data": {
      "image/png": "[encoded data removed]",
      "text/plain": [
       "<Figure size 432x288 with 1 Axes>"
      ]
     },
     "metadata": {},
     "output_type": "display_data"
    },
    {
     "data": {
      "image/png": "[encoded data removed]",
      "text/plain": [
       "<Figure size 432x288 with 1 Axes>"
      ]
     },
     "metadata": {},
     "output_type": "display_data"
    }
   ],
   "source": [
    "res = pd.DataFrame(hist, columns=('mean_reward', 'loss')).reset_index()\n",
    "res.plot('index', 'mean_reward', logy=True)\n",
    "res.plot('index', 'loss', logy=True)"
   ]
  },
  {
   "cell_type": "markdown",
   "metadata": {},
   "source": [
    "awesome\n",
    "\n",
    "we can try building a real neural network, then! for simplicity, we ignore the layer type, since we test on a very simple problem, and use only fully connected layers.\n",
    "\n",
    "we create 10 independent and normally distributed features, and compute the output using only two of them. this creates high risk of overfitting, because random networks are too big and do not generalize. in fact, a simple network with one hidden layer of 5 neurons easily achieves 0.001 validation mse, whereas a 4 hidden layers network overfits and gets stuck at 0.2"
   ]
  },
  {
   "cell_type": "code",
   "execution_count": 119,
   "metadata": {},
   "outputs": [],
   "source": [
    "def target_function(x, y):\n",
    "    return np.sin(x) * np.cos(y)# + np.random.normal(scale=0.001, size=len(x))\n",
    "\n",
    "data_x = np.random.normal(size=(100, 5))\n",
    "data_y = target_function(data_x[:, 0], data_x[:, 1])\n",
    "\n",
    "train_x, test_x, train_y, test_y = train_test_split(data_x, data_y, test_size=0.2)"
   ]
  },
  {
   "cell_type": "code",
   "execution_count": 165,
   "metadata": {},
   "outputs": [
    {
     "name": "stdout",
     "output_type": "stream",
     "text": [
      "small network 0.044782408\n",
      "large network 0.25822872\n"
     ]
    }
   ],
   "source": [
    "class SimpleFCNetwork:\n",
    "    def __init__(self):\n",
    "        self.learning_rate = 0.01\n",
    "\n",
    "    def make_weights(self, rows, cols, mag=0.1):\n",
    "        weights = tf.Variable(tf.random_uniform([rows, cols], -mag, mag))\n",
    "        bias = tf.Variable(tf.constant(mag * (2 * np.random.random() - 1), shape=[1, cols]))\n",
    "        self.variables.append(weights)\n",
    "        self.variables.append(bias)\n",
    "        return weights, bias\n",
    "\n",
    "    @staticmethod\n",
    "    def compute_next_layer(input_layer, weights, bias, activation=tf.nn.relu):\n",
    "        h = tf.matmul(input_layer, weights) + bias\n",
    "        output = activation(h) if activation else tf.identity(h)\n",
    "        return output\n",
    "\n",
    "    def build(self, input_shape, layers):\n",
    "        self.input = tf.placeholder(tf.float32, [None, input_shape])\n",
    "        self.label = tf.placeholder(tf.float32, [None, 1])\n",
    "\n",
    "        self.variables = []\n",
    "        last_layer, last_size = self.input, input_shape\n",
    "        for layer_type, layer_arg in layers:\n",
    "            if layer_type == 1:\n",
    "                ws, bs = self.make_weights(last_size, layer_arg)\n",
    "                last_layer = self.compute_next_layer(last_layer, ws, bs)\n",
    "                last_size = layer_arg\n",
    "            else:\n",
    "                last_layer = tf.nn.dropout(\n",
    "                    last_layer, keep_prob=(layer_arg + 1) / 10\n",
    "                )\n",
    "\n",
    "        ws, bs = self.make_weights(last_size, 1)\n",
    "        self.output = self.compute_next_layer(last_layer, ws, bs, activation=None)\n",
    "        self.loss = tf.reduce_mean(tf.squared_difference(self.output, self.label))\n",
    "        optimizer = tf.train.AdamOptimizer(self.learning_rate)\n",
    "        self.optimize = optimizer.minimize(self.loss)\n",
    "        \n",
    "        return self\n",
    "\n",
    "    def train_on_batch(self, sess, batch_x, batch_y):\n",
    "        loss, _ = sess.run([self.loss, self.optimize], feed_dict={\n",
    "            self.input: batch_x,\n",
    "            self.label: batch_y.reshape(-1, 1),\n",
    "        })\n",
    "        return loss\n",
    "\n",
    "    def test_on_batch(self, sess, batch_x, batch_y):\n",
    "        return sess.run(self.loss, feed_dict={\n",
    "            self.input: batch_x,\n",
    "            self.label: batch_y.reshape(-1, 1),\n",
    "        })\n",
    "\n",
    "\n",
    "def evaluate_architecture(sess, nnet, batch_size=32, max_epochs=100, verbose=0):\n",
    "    for ep in range(max_epochs):\n",
    "        # perform a full epoch on training data\n",
    "        sh_train_x, sh_train_y = shuffle(train_x, train_y)\n",
    "        for batch_start in range(0, train_x.shape[0], batch_size):\n",
    "            ll = nnet.train_on_batch(\n",
    "                sess,\n",
    "                sh_train_x[batch_start:batch_start + batch_size],\n",
    "                sh_train_y[batch_start:batch_start + batch_size],\n",
    "            )\n",
    "        \n",
    "        # evaluate on test data\n",
    "        val_err = np.mean([\n",
    "            nnet.test_on_batch(\n",
    "                sess,\n",
    "                test_x[batch_start:batch_start + batch_size],\n",
    "                test_y[batch_start:batch_start + batch_size],\n",
    "            ) for batch_start in range(0, test_x.shape[0], batch_size)\n",
    "        ])\n",
    "        \n",
    "        if verbose > 0:\n",
    "            print(ep, val_err)\n",
    "    \n",
    "    return val_err\n",
    "\n",
    "\n",
    "with tf.Graph().as_default():\n",
    "    small_nnet = SimpleFCNetwork().build(train_x.shape[1], [(1, 5)])\n",
    "    large_nnet = SimpleFCNetwork().build(train_x.shape[1], [(1, 10) for i in range(6)])\n",
    "    \n",
    "    with tf.Session() as sess:\n",
    "        initializer = tf.global_variables_initializer()\n",
    "        sess.run(initializer)\n",
    "\n",
    "        print('small network', evaluate_architecture(sess, small_nnet))\n",
    "        print('large network', evaluate_architecture(sess, large_nnet))"
   ]
  },
  {
   "cell_type": "code",
   "execution_count": 167,
   "metadata": {},
   "outputs": [],
   "source": [
    "class MovingAverages:\n",
    "    def __init__(self):\n",
    "        self.metrics = {}\n",
    "        self.smoothing = {}\n",
    "        self.snapshots = []\n",
    "    \n",
    "    def update(self, metric, value, smoothing=None):\n",
    "        if smoothing is None:\n",
    "            smoothing = self.smoothing.get(metric, 0.6)\n",
    "        self.smoothing[metric] = smoothing\n",
    "        \n",
    "        # can pass None to update smoothing\n",
    "        if value is not None:\n",
    "            self.metrics[metric] = (\n",
    "                smoothing * self.metrics.get(metric, value)\n",
    "                + (1 - smoothing) * value\n",
    "            )\n",
    "        return self.metrics[metric]\n",
    "    \n",
    "    def update_all(self, **metrics):\n",
    "        for metric, value in metrics.items():\n",
    "            self.update(metric, value)\n",
    "        return [self.metrics[m] for m in metrics]\n",
    "    \n",
    "    def snapshot(self, **meta):\n",
    "        snap = dict(self.metrics)\n",
    "        snap.update(meta)\n",
    "        self.snapshots.append(snap)\n",
    "        return snap"
   ]
  },
  {
   "cell_type": "code",
   "execution_count": 170,
   "metadata": {
    "scrolled": true
   },
   "outputs": [
    {
     "name": "stderr",
     "output_type": "stream",
     "text": [
      "Exception ignored in: <bound method BaseSession.__del__ of <tensorflow.python.client.session.Session object at 0x7f5d4e1f8438>>\n",
      "Traceback (most recent call last):\n",
      "  File \"/usr/lib/python3.6/site-packages/tensorflow/python/client/session.py\", line 704, in __del__\n",
      "    def __del__(self):\n",
      "KeyboardInterrupt\n"
     ]
    },
    {
     "name": "stdout",
     "output_type": "stream",
     "text": [
      "contro_loss=3.700  inner_mse=0.205  inner_mse_std=0.067  length=3.000  size=12.000  i=0.000  time=2.876\n",
      "contro_loss=1.577  inner_mse=0.211  inner_mse_std=0.025  length=2.650  size=12.364  i=25.000  time=26.446\n",
      "contro_loss=0.759  inner_mse=0.167  inner_mse_std=0.082  length=2.609  size=14.408  i=50.000  time=52.177\n",
      "contro_loss=0.779  inner_mse=0.224  inner_mse_std=0.023  length=2.805  size=11.355  i=75.000  time=75.070\n",
      "contro_loss=2.367  inner_mse=0.628  inner_mse_std=0.453  length=2.745  size=7.969  i=100.000  time=98.805\n",
      "contro_loss=0.327  inner_mse=0.211  inner_mse_std=0.047  length=3.093  size=12.342  i=125.000  time=123.640\n"
     ]
    },
    {
     "ename": "KeyboardInterrupt",
     "evalue": "",
     "output_type": "error",
     "traceback": [
      "\u001b[0;31m---------------------------------------------------------------------------\u001b[0m",
      "\u001b[0;31mKeyboardInterrupt\u001b[0m                         Traceback (most recent call last)",
      "\u001b[0;32m<ipython-input-170-31c2667355a5>\u001b[0m in \u001b[0;36m<module>\u001b[0;34m()\u001b[0m\n\u001b[1;32m     35\u001b[0m                 evaluate_architecture(\n\u001b[1;32m     36\u001b[0m                     \u001b[0msess\u001b[0m\u001b[0;34m,\u001b[0m \u001b[0mnnet\u001b[0m\u001b[0;34m,\u001b[0m \u001b[0mverbose\u001b[0m\u001b[0;34m=\u001b[0m\u001b[0;36m0\u001b[0m\u001b[0;34m\u001b[0m\u001b[0m\n\u001b[0;32m---> 37\u001b[0;31m                 ) for nnet in networks\n\u001b[0m\u001b[1;32m     38\u001b[0m             ]\n\u001b[1;32m     39\u001b[0m \u001b[0;34m\u001b[0m\u001b[0m\n",
      "\u001b[0;32m<ipython-input-170-31c2667355a5>\u001b[0m in \u001b[0;36m<listcomp>\u001b[0;34m(.0)\u001b[0m\n\u001b[1;32m     35\u001b[0m                 evaluate_architecture(\n\u001b[1;32m     36\u001b[0m                     \u001b[0msess\u001b[0m\u001b[0;34m,\u001b[0m \u001b[0mnnet\u001b[0m\u001b[0;34m,\u001b[0m \u001b[0mverbose\u001b[0m\u001b[0;34m=\u001b[0m\u001b[0;36m0\u001b[0m\u001b[0;34m\u001b[0m\u001b[0m\n\u001b[0;32m---> 37\u001b[0;31m                 ) for nnet in networks\n\u001b[0m\u001b[1;32m     38\u001b[0m             ]\n\u001b[1;32m     39\u001b[0m \u001b[0;34m\u001b[0m\u001b[0m\n",
      "\u001b[0;32m<ipython-input-165-251b8dd6e3f3>\u001b[0m in \u001b[0;36mevaluate_architecture\u001b[0;34m(sess, nnet, batch_size, max_epochs, verbose)\u001b[0m\n\u001b[1;32m     62\u001b[0m                 \u001b[0msess\u001b[0m\u001b[0;34m,\u001b[0m\u001b[0;34m\u001b[0m\u001b[0m\n\u001b[1;32m     63\u001b[0m                 \u001b[0msh_train_x\u001b[0m\u001b[0;34m[\u001b[0m\u001b[0mbatch_start\u001b[0m\u001b[0;34m:\u001b[0m\u001b[0mbatch_start\u001b[0m \u001b[0;34m+\u001b[0m \u001b[0mbatch_size\u001b[0m\u001b[0;34m]\u001b[0m\u001b[0;34m,\u001b[0m\u001b[0;34m\u001b[0m\u001b[0m\n\u001b[0;32m---> 64\u001b[0;31m                 \u001b[0msh_train_y\u001b[0m\u001b[0;34m[\u001b[0m\u001b[0mbatch_start\u001b[0m\u001b[0;34m:\u001b[0m\u001b[0mbatch_start\u001b[0m \u001b[0;34m+\u001b[0m \u001b[0mbatch_size\u001b[0m\u001b[0;34m]\u001b[0m\u001b[0;34m,\u001b[0m\u001b[0;34m\u001b[0m\u001b[0m\n\u001b[0m\u001b[1;32m     65\u001b[0m             )\n\u001b[1;32m     66\u001b[0m \u001b[0;34m\u001b[0m\u001b[0m\n",
      "\u001b[0;32m<ipython-input-165-251b8dd6e3f3>\u001b[0m in \u001b[0;36mtrain_on_batch\u001b[0;34m(self, sess, batch_x, batch_y)\u001b[0m\n\u001b[1;32m     43\u001b[0m         loss, _ = sess.run([self.loss, self.optimize], feed_dict={\n\u001b[1;32m     44\u001b[0m             \u001b[0mself\u001b[0m\u001b[0;34m.\u001b[0m\u001b[0minput\u001b[0m\u001b[0;34m:\u001b[0m \u001b[0mbatch_x\u001b[0m\u001b[0;34m,\u001b[0m\u001b[0;34m\u001b[0m\u001b[0m\n\u001b[0;32m---> 45\u001b[0;31m             \u001b[0mself\u001b[0m\u001b[0;34m.\u001b[0m\u001b[0mlabel\u001b[0m\u001b[0;34m:\u001b[0m \u001b[0mbatch_y\u001b[0m\u001b[0;34m.\u001b[0m\u001b[0mreshape\u001b[0m\u001b[0;34m(\u001b[0m\u001b[0;34m-\u001b[0m\u001b[0;36m1\u001b[0m\u001b[0;34m,\u001b[0m \u001b[0;36m1\u001b[0m\u001b[0;34m)\u001b[0m\u001b[0;34m,\u001b[0m\u001b[0;34m\u001b[0m\u001b[0m\n\u001b[0m\u001b[1;32m     46\u001b[0m         })\n\u001b[1;32m     47\u001b[0m         \u001b[0;32mreturn\u001b[0m \u001b[0mloss\u001b[0m\u001b[0;34m\u001b[0m\u001b[0m\n",
      "\u001b[0;32m/usr/lib/python3.6/site-packages/tensorflow/python/client/session.py\u001b[0m in \u001b[0;36mrun\u001b[0;34m(self, fetches, feed_dict, options, run_metadata)\u001b[0m\n\u001b[1;32m    903\u001b[0m     \u001b[0;32mtry\u001b[0m\u001b[0;34m:\u001b[0m\u001b[0;34m\u001b[0m\u001b[0m\n\u001b[1;32m    904\u001b[0m       result = self._run(None, fetches, feed_dict, options_ptr,\n\u001b[0;32m--> 905\u001b[0;31m                          run_metadata_ptr)\n\u001b[0m\u001b[1;32m    906\u001b[0m       \u001b[0;32mif\u001b[0m \u001b[0mrun_metadata\u001b[0m\u001b[0;34m:\u001b[0m\u001b[0;34m\u001b[0m\u001b[0m\n\u001b[1;32m    907\u001b[0m         \u001b[0mproto_data\u001b[0m \u001b[0;34m=\u001b[0m \u001b[0mtf_session\u001b[0m\u001b[0;34m.\u001b[0m\u001b[0mTF_GetBuffer\u001b[0m\u001b[0;34m(\u001b[0m\u001b[0mrun_metadata_ptr\u001b[0m\u001b[0;34m)\u001b[0m\u001b[0;34m\u001b[0m\u001b[0m\n",
      "\u001b[0;32m/usr/lib/python3.6/site-packages/tensorflow/python/client/session.py\u001b[0m in \u001b[0;36m_run\u001b[0;34m(self, handle, fetches, feed_dict, options, run_metadata)\u001b[0m\n\u001b[1;32m   1107\u001b[0m \u001b[0;34m\u001b[0m\u001b[0m\n\u001b[1;32m   1108\u001b[0m           if (not is_tensor_handle_feed and\n\u001b[0;32m-> 1109\u001b[0;31m               not subfeed_t.get_shape().is_compatible_with(np_val.shape)):\n\u001b[0m\u001b[1;32m   1110\u001b[0m             raise ValueError('Cannot feed value of shape %r for Tensor %r, '\n\u001b[1;32m   1111\u001b[0m                              \u001b[0;34m'which has shape %r'\u001b[0m \u001b[0;34m%\u001b[0m\u001b[0;34m\u001b[0m\u001b[0m\n",
      "\u001b[0;32m/usr/lib/python3.6/site-packages/tensorflow/python/framework/tensor_shape.py\u001b[0m in \u001b[0;36mis_compatible_with\u001b[0;34m(self, other)\u001b[0m\n\u001b[1;32m    734\u001b[0m     \u001b[0mother\u001b[0m \u001b[0;34m=\u001b[0m \u001b[0mas_shape\u001b[0m\u001b[0;34m(\u001b[0m\u001b[0mother\u001b[0m\u001b[0;34m)\u001b[0m\u001b[0;34m\u001b[0m\u001b[0m\n\u001b[1;32m    735\u001b[0m     \u001b[0;32mif\u001b[0m \u001b[0mself\u001b[0m\u001b[0;34m.\u001b[0m\u001b[0m_dims\u001b[0m \u001b[0;32mis\u001b[0m \u001b[0;32mnot\u001b[0m \u001b[0;32mNone\u001b[0m \u001b[0;32mand\u001b[0m \u001b[0mother\u001b[0m\u001b[0;34m.\u001b[0m\u001b[0mdims\u001b[0m \u001b[0;32mis\u001b[0m \u001b[0;32mnot\u001b[0m \u001b[0;32mNone\u001b[0m\u001b[0;34m:\u001b[0m\u001b[0;34m\u001b[0m\u001b[0m\n\u001b[0;32m--> 736\u001b[0;31m       \u001b[0;32mif\u001b[0m \u001b[0mself\u001b[0m\u001b[0;34m.\u001b[0m\u001b[0mndims\u001b[0m \u001b[0;34m!=\u001b[0m \u001b[0mother\u001b[0m\u001b[0;34m.\u001b[0m\u001b[0mndims\u001b[0m\u001b[0;34m:\u001b[0m\u001b[0;34m\u001b[0m\u001b[0m\n\u001b[0m\u001b[1;32m    737\u001b[0m         \u001b[0;32mreturn\u001b[0m \u001b[0;32mFalse\u001b[0m\u001b[0;34m\u001b[0m\u001b[0m\n\u001b[1;32m    738\u001b[0m       \u001b[0;32mfor\u001b[0m \u001b[0mx_dim\u001b[0m\u001b[0;34m,\u001b[0m \u001b[0my_dim\u001b[0m \u001b[0;32min\u001b[0m \u001b[0mzip\u001b[0m\u001b[0;34m(\u001b[0m\u001b[0mself\u001b[0m\u001b[0;34m.\u001b[0m\u001b[0m_dims\u001b[0m\u001b[0;34m,\u001b[0m \u001b[0mother\u001b[0m\u001b[0;34m.\u001b[0m\u001b[0mdims\u001b[0m\u001b[0;34m)\u001b[0m\u001b[0;34m:\u001b[0m\u001b[0;34m\u001b[0m\u001b[0m\n",
      "\u001b[0;32m/usr/lib/python3.6/site-packages/tensorflow/python/framework/tensor_shape.py\u001b[0m in \u001b[0;36mndims\u001b[0;34m(self)\u001b[0m\n\u001b[1;32m    480\u001b[0m       \u001b[0;32mreturn\u001b[0m \u001b[0;32mNone\u001b[0m\u001b[0;34m\u001b[0m\u001b[0m\n\u001b[1;32m    481\u001b[0m     \u001b[0;32melse\u001b[0m\u001b[0;34m:\u001b[0m\u001b[0;34m\u001b[0m\u001b[0m\n\u001b[0;32m--> 482\u001b[0;31m       \u001b[0;32mreturn\u001b[0m \u001b[0mlen\u001b[0m\u001b[0;34m(\u001b[0m\u001b[0mself\u001b[0m\u001b[0;34m.\u001b[0m\u001b[0m_dims\u001b[0m\u001b[0;34m)\u001b[0m\u001b[0;34m\u001b[0m\u001b[0m\n\u001b[0m\u001b[1;32m    483\u001b[0m \u001b[0;34m\u001b[0m\u001b[0m\n\u001b[1;32m    484\u001b[0m   \u001b[0;32mdef\u001b[0m \u001b[0m__len__\u001b[0m\u001b[0;34m(\u001b[0m\u001b[0mself\u001b[0m\u001b[0;34m)\u001b[0m\u001b[0;34m:\u001b[0m\u001b[0;34m\u001b[0m\u001b[0m\n",
      "\u001b[0;31mKeyboardInterrupt\u001b[0m: "
     ]
    }
   ],
   "source": [
    "controller = ControllerRNN(\n",
    "    hidden_size=64,\n",
    "    max_len=5,\n",
    "    batch_size=2,\n",
    "    type_size=2,\n",
    "    arg_size=10,\n",
    "    learning_rate=0.001,\n",
    "    baseline_smoothing=0.99,\n",
    ")\n",
    "\n",
    "\n",
    "hist = []\n",
    "controller_graph = tf.Graph()\n",
    "with controller_graph.as_default():\n",
    "    controller.build()\n",
    "    controller_session = tf.Session(graph=controller_graph)\n",
    "    controller_session.run(tf.global_variables_initializer())\n",
    "\n",
    "averages = MovingAverages()\n",
    "averages.smoothing['time'] = 0\n",
    "start_time = time.time()\n",
    "for i in range(10000):\n",
    "    architectures = controller.generate_architecture(controller_session)\n",
    "\n",
    "    # test architectures on a temporary graph\n",
    "    with tf.Graph().as_default():\n",
    "        networks = [\n",
    "            SimpleFCNetwork().build(train_x.shape[1], arch)\n",
    "            for arch in architectures\n",
    "        ]\n",
    "\n",
    "        with tf.Session() as sess:\n",
    "            sess.run(tf.global_variables_initializer())\n",
    "            rewards = [\n",
    "                evaluate_architecture(\n",
    "                    sess, nnet, verbose=0\n",
    "                ) for nnet in networks\n",
    "            ]\n",
    "\n",
    "    loss = controller.learn_from_rewards(\n",
    "        controller_session, architectures, rewards\n",
    "    )\n",
    "\n",
    "    averages.update_all(\n",
    "        contro_loss=loss**2,\n",
    "        inner_mse=np.mean(rewards),\n",
    "        inner_mse_std=np.std(rewards),\n",
    "        length=np.mean(list(map(len, architectures))),\n",
    "        size=np.mean([sum(n for _, n in arch) for arch in architectures]),\n",
    "    )\n",
    "\n",
    "    if i % 25 == 0:\n",
    "        snap = averages.snapshot(i=i, time=time.time() - start_time)\n",
    "        print('  '.join(\n",
    "            '%s=%.3f' % metric for metric in snap.items()\n",
    "        ))\n",
    "\n",
    "clear_output()"
   ]
  },
  {
   "cell_type": "code",
   "execution_count": 160,
   "metadata": {},
   "outputs": [
    {
     "data": {
      "text/plain": [
       "<matplotlib.axes._subplots.AxesSubplot at 0x7f5d6cec7c18>"
      ]
     },
     "execution_count": 160,
     "metadata": {},
     "output_type": "execute_result"
    },
    {
     "data": {
      "image/png": "[encoded data removed]",
      "text/plain": [
       "<Figure size 432x288 with 1 Axes>"
      ]
     },
     "metadata": {},
     "output_type": "display_data"
    },
    {
     "data": {
      "image/png": "[encoded data removed]",
      "text/plain": [
       "<Figure size 432x288 with 1 Axes>"
      ]
     },
     "metadata": {},
     "output_type": "display_data"
    }
   ],
   "source": [
    "res = pd.DataFrame(averages.snapshots)\n",
    "res.plot('i', 'inner_mse', logy=True, yerr='inner_mse_std')\n",
    "res.plot('i', 'contro_loss', logy=True)"
   ]
  },
  {
   "cell_type": "markdown",
   "metadata": {},
   "source": [
    "soooo cool"
   ]
  }
 ],
 "metadata": {
  "kernelspec": {
   "display_name": "Python 3",
   "language": "python",
   "name": "python3"
  },
  "language_info": {
   "codemirror_mode": {
    "name": "ipython",
    "version": 3
   },
   "file_extension": ".py",
   "mimetype": "text/x-python",
   "name": "python",
   "nbconvert_exporter": "python",
   "pygments_lexer": "ipython3",
   "version": "3.6.4"
  }
 },
 "nbformat": 4,
 "nbformat_minor": 2
}
