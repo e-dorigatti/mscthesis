{
 "cells": [
  {
   "cell_type": "code",
   "execution_count": 1,
   "metadata": {},
   "outputs": [
    {
     "name": "stderr",
     "output_type": "stream",
     "text": [
      "/usr/local/lib/python3.6/dist-packages/h5py/__init__.py:36: FutureWarning: Conversion of the second argument of issubdtype from `float` to `np.floating` is deprecated. In future, it will be treated as `np.float64 == np.dtype(float).type`.\n",
      "  from ._conv import register_converters as _register_converters\n",
      "Using TensorFlow backend.\n"
     ]
    }
   ],
   "source": [
    "import pandas as pd\n",
    "from hkfold import HKFold\n",
    "from sklearn.model_selection import KFold\n",
    "import matplotlib.pyplot as plt\n",
    "import numpy as np\n",
    "import seaborn as sns\n",
    "sns.set()\n",
    "from keras.layers import PReLU\n",
    "from sklearn.utils import shuffle\n",
    "from keras.optimizers import RMSprop, Adam\n",
    "from keras.callbacks import ReduceLROnPlateau, ModelCheckpoint, TensorBoard, EarlyStopping\n",
    "from keras.models import Sequential\n",
    "from keras.layers import Dense, Dropout, BatchNormalization, GaussianNoise\n",
    "from keras.models import load_model\n",
    "from sklearn import metrics"
   ]
  },
  {
   "cell_type": "code",
   "execution_count": 37,
   "metadata": {},
   "outputs": [],
   "source": [
    "dframe_path = 'data/cabauw/processed.csv.gz'\n",
    "\n",
    "try:\n",
    "    df = pd.read_csv(dframe_path, na_values='--')\n",
    "except UnicodeDecodeError:\n",
    "    df = pd.read_csv(dframe_path, na_values='--', compression='gzip')\n",
    "\n",
    "\n",
    "df = df[(df.ustar > 0.1) & (abs(df.H) > 10) & (df.wind > 1)]\n",
    "df = df[df.ds != 201603]\n",
    "df = df.dropna()\n",
    "df = df[df.z > 10]"
   ]
  },
  {
   "cell_type": "code",
   "execution_count": 87,
   "metadata": {},
   "outputs": [
    {
     "name": "stdout",
     "output_type": "stream",
     "text": [
      "training with 823284, testing with 63444\n"
     ]
    }
   ],
   "source": [
    "features = [\n",
    "    'dewpoint', 'spec_hum', 'press', 'temp', 'air_dens', \n",
    "    'virtual_temp', 'rel_hum', 'rain', 'soil_temp',\n",
    "    'H', 'LE',\n",
    "    'z',\n",
    "    'wind',\n",
    "    'zL', \n",
    "    'lval',\n",
    "    'ustar', \n",
    "]\n",
    "\n",
    "target = 'phi_m'\n",
    "\n",
    "test_ds = np.random.choice(df.ds.unique(), 12, replace=False)\n",
    "test_mask = df.ds.isin(test_ds)\n",
    "train_x, train_y = df[~test_mask][features], df[~test_mask][target]\n",
    "test_x, test_y = df[test_mask][features], df[test_mask][target]\n",
    "train_x, train_y = shuffle(train_x, train_y)\n",
    "\n",
    "print('training with %d, testing with %d' % (len(train_x), len(test_x)))"
   ]
  },
  {
   "cell_type": "code",
   "execution_count": 88,
   "metadata": {
    "scrolled": true
   },
   "outputs": [],
   "source": [
    "mean_x, mean_y = train_x.mean(), train_y.mean()\n",
    "std_x, std_y = train_x.std(), train_y.std()\n",
    "\n",
    "norm_train_x = (train_x - mean_x) /  std_x\n",
    "norm_test_x = (test_x - mean_x) / std_x\n",
    "\n",
    "norm_train_y = (train_y - mean_y) / std_y\n",
    "norm_test_y = (test_y - mean_y) / std_y"
   ]
  },
  {
   "cell_type": "code",
   "execution_count": 92,
   "metadata": {
    "scrolled": false
   },
   "outputs": [
    {
     "name": "stdout",
     "output_type": "stream",
     "text": [
      "_________________________________________________________________\n",
      "Layer (type)                 Output Shape              Param #   \n",
      "=================================================================\n",
      "dense_118 (Dense)            (None, 1024)              17408     \n",
      "_________________________________________________________________\n",
      "p_re_lu_95 (PReLU)           (None, 1024)              1024      \n",
      "_________________________________________________________________\n",
      "dropout_4 (Dropout)          (None, 1024)              0         \n",
      "_________________________________________________________________\n",
      "dense_119 (Dense)            (None, 256)               262400    \n",
      "_________________________________________________________________\n",
      "p_re_lu_96 (PReLU)           (None, 256)               256       \n",
      "_________________________________________________________________\n",
      "dense_120 (Dense)            (None, 128)               32896     \n",
      "_________________________________________________________________\n",
      "p_re_lu_97 (PReLU)           (None, 128)               128       \n",
      "_________________________________________________________________\n",
      "dense_121 (Dense)            (None, 32)                4128      \n",
      "_________________________________________________________________\n",
      "p_re_lu_98 (PReLU)           (None, 32)                32        \n",
      "_________________________________________________________________\n",
      "dense_122 (Dense)            (None, 1)                 33        \n",
      "=================================================================\n",
      "Total params: 318,305\n",
      "Trainable params: 318,305\n",
      "Non-trainable params: 0\n",
      "_________________________________________________________________\n"
     ]
    }
   ],
   "source": [
    "model = Sequential([\n",
    "    Dense(1024, input_shape=(len(features),)), PReLU(),\n",
    "    Dropout(0.5),\n",
    "    Dense(256), PReLU(),\n",
    "    Dense(128), PReLU(),\n",
    "    Dense(32), PReLU(),\n",
    "    Dense(1)\n",
    "])\n",
    "\n",
    "opt = RMSprop(lr=0.001)\n",
    "model.compile(loss='mse', optimizer=opt)\n",
    "model.summary()"
   ]
  },
  {
   "cell_type": "code",
   "execution_count": 93,
   "metadata": {
    "scrolled": false
   },
   "outputs": [
    {
     "name": "stdout",
     "output_type": "stream",
     "text": [
      "Train on 823284 samples, validate on 63444 samples\n",
      "Epoch 1/250\n",
      "817152/823284 [============================>.] - ETA: 0s - loss: 0.1856\n",
      "Epoch 00001: val_loss improved from inf to 0.16652, saving model to dev/models/weights-w.0001-0.1665.hdf5\n",
      "823284/823284 [==============================] - 15s 18us/step - loss: 0.1853 - val_loss: 0.1665\n",
      "Epoch 2/250\n",
      "819200/823284 [============================>.] - ETA: 0s - loss: 0.1515\n",
      "Epoch 00002: val_loss improved from 0.16652 to 0.12760, saving model to dev/models/weights-w.0002-0.1276.hdf5\n",
      "823284/823284 [==============================] - 10s 12us/step - loss: 0.1515 - val_loss: 0.1276\n",
      "Epoch 3/250\n",
      "819200/823284 [============================>.] - ETA: 0s - loss: 0.1423\n",
      "Epoch 00003: val_loss did not improve\n",
      "823284/823284 [==============================] - 9s 11us/step - loss: 0.1423 - val_loss: 0.1723\n",
      "Epoch 4/250\n",
      "819200/823284 [============================>.] - ETA: 0s - loss: 0.1349\n",
      "Epoch 00004: val_loss did not improve\n",
      "823284/823284 [==============================] - 8s 10us/step - loss: 0.1349 - val_loss: 0.1641\n",
      "Epoch 5/250\n",
      "821248/823284 [============================>.] - ETA: 0s - loss: 0.1290\n",
      "Epoch 00005: val_loss did not improve\n",
      "823284/823284 [==============================] - 12s 14us/step - loss: 0.1291 - val_loss: 0.1337\n",
      "Epoch 6/250\n",
      "821248/823284 [============================>.] - ETA: 0s - loss: 0.1232\n",
      "Epoch 00006: val_loss did not improve\n",
      "823284/823284 [==============================] - 15s 18us/step - loss: 0.1232 - val_loss: 0.1388\n",
      "Epoch 7/250\n",
      "819200/823284 [============================>.] - ETA: 0s - loss: 0.1184\n",
      "Epoch 00007: val_loss did not improve\n",
      "823284/823284 [==============================] - 14s 17us/step - loss: 0.1183 - val_loss: 0.1632\n",
      "Epoch 8/250\n",
      "819200/823284 [============================>.] - ETA: 0s - loss: 0.1137\n",
      "Epoch 00008: val_loss did not improve\n",
      "823284/823284 [==============================] - 14s 17us/step - loss: 0.1137 - val_loss: 0.1408\n",
      "Epoch 9/250\n",
      "819200/823284 [============================>.] - ETA: 0s - loss: 0.1094\n",
      "Epoch 00009: val_loss did not improve\n",
      "823284/823284 [==============================] - 14s 17us/step - loss: 0.1093 - val_loss: 0.1311\n",
      "Epoch 10/250\n",
      "821248/823284 [============================>.] - ETA: 0s - loss: 0.1057\n",
      "Epoch 00010: val_loss did not improve\n",
      "823284/823284 [==============================] - 14s 17us/step - loss: 0.1058 - val_loss: 0.1375\n",
      "Epoch 11/250\n",
      "819200/823284 [============================>.] - ETA: 0s - loss: 0.1018- ETA: 0s - los\n",
      "Epoch 00011: val_loss did not improve\n",
      "823284/823284 [==============================] - 14s 18us/step - loss: 0.1018 - val_loss: 0.1337\n",
      "Epoch 12/250\n",
      "819200/823284 [============================>.] - ETA: 0s - loss: 0.0991\n",
      "Epoch 00012: val_loss did not improve\n",
      "823284/823284 [==============================] - 14s 17us/step - loss: 0.0991 - val_loss: 0.1662\n",
      "Epoch 13/250\n",
      "819200/823284 [============================>.] - ETA: 0s - loss: 0.0958\n",
      "Epoch 00013: ReduceLROnPlateau reducing learning rate to 0.00020000000949949026.\n",
      "\n",
      "Epoch 00013: val_loss did not improve\n",
      "823284/823284 [==============================] - 14s 17us/step - loss: 0.0957 - val_loss: 0.1407\n",
      "Epoch 14/250\n",
      "817152/823284 [============================>.] - ETA: 0s - loss: 0.0824\n",
      "Epoch 00014: val_loss did not improve\n",
      "823284/823284 [==============================] - 10s 12us/step - loss: 0.0823 - val_loss: 0.1455\n",
      "Epoch 15/250\n",
      "819200/823284 [============================>.] - ETA: 0s - loss: 0.0800\n",
      "Epoch 00015: val_loss did not improve\n",
      "823284/823284 [==============================] - 8s 10us/step - loss: 0.0800 - val_loss: 0.1456\n",
      "Epoch 16/250\n",
      "819200/823284 [============================>.] - ETA: 0s - loss: 0.0784- ETA: 1s - loss:  - ETA: 0s - lo\n",
      "Epoch 00016: val_loss did not improve\n",
      "823284/823284 [==============================] - 14s 17us/step - loss: 0.0784 - val_loss: 0.1447\n",
      "Epoch 17/250\n",
      "821248/823284 [============================>.] - ETA: 0s - loss: 0.0774\n",
      "Epoch 00017: val_loss did not improve\n",
      "823284/823284 [==============================] - 14s 17us/step - loss: 0.0775 - val_loss: 0.1470\n",
      "Epoch 18/250\n",
      "819200/823284 [============================>.] - ETA: 0s - loss: 0.0763\n",
      "Epoch 00018: val_loss did not improve\n",
      "823284/823284 [==============================] - 14s 17us/step - loss: 0.0764 - val_loss: 0.1451\n",
      "Epoch 19/250\n",
      "819200/823284 [============================>.] - ETA: 0s - loss: 0.0753\n",
      "Epoch 00019: val_loss did not improve\n",
      "823284/823284 [==============================] - 15s 18us/step - loss: 0.0753 - val_loss: 0.1486\n",
      "Epoch 20/250\n",
      "819200/823284 [============================>.] - ETA: 0s - loss: 0.0745\n",
      "Epoch 00020: val_loss did not improve\n",
      "823284/823284 [==============================] - 14s 17us/step - loss: 0.0745 - val_loss: 0.1488\n",
      "Epoch 21/250\n",
      "819200/823284 [============================>.] - ETA: 0s - loss: 0.0736\n",
      "Epoch 00021: val_loss did not improve\n",
      "823284/823284 [==============================] - 14s 17us/step - loss: 0.0736 - val_loss: 0.1460\n",
      "Epoch 22/250\n",
      "821248/823284 [============================>.] - ETA: 0s - loss: 0.0727- ETA: 0s - loss: 0.\n",
      "Epoch 00022: val_loss did not improve\n",
      "823284/823284 [==============================] - 14s 17us/step - loss: 0.0727 - val_loss: 0.1447\n",
      "Epoch 23/250\n",
      "819200/823284 [============================>.] - ETA: 0s - loss: 0.0720- ETA: 0s - l\n",
      "Epoch 00023: ReduceLROnPlateau reducing learning rate to 4.0000001899898055e-05.\n",
      "\n",
      "Epoch 00023: val_loss did not improve\n",
      "823284/823284 [==============================] - 14s 17us/step - loss: 0.0720 - val_loss: 0.1454\n",
      "Epoch 24/250\n",
      "817152/823284 [============================>.] - ETA: 0s - loss: 0.0701\n",
      "Epoch 00024: val_loss did not improve\n",
      "823284/823284 [==============================] - 13s 16us/step - loss: 0.0701 - val_loss: 0.1471\n",
      "Epoch 25/250\n",
      "819200/823284 [============================>.] - ETA: 0s - loss: 0.0695\n",
      "Epoch 00025: val_loss did not improve\n",
      "823284/823284 [==============================] - 9s 10us/step - loss: 0.0695 - val_loss: 0.1466\n",
      "Epoch 26/250\n",
      "817152/823284 [============================>.] - ETA: 0s - loss: 0.0691\n",
      "Epoch 00026: val_loss did not improve\n",
      "823284/823284 [==============================] - 8s 10us/step - loss: 0.0691 - val_loss: 0.1466\n",
      "Epoch 27/250\n",
      "819200/823284 [============================>.] - ETA: 0s - loss: 0.0691\n",
      "Epoch 00027: val_loss did not improve\n",
      "823284/823284 [==============================] - 8s 10us/step - loss: 0.0691 - val_loss: 0.1460\n",
      "Epoch 28/250\n",
      "819200/823284 [============================>.] - ETA: 0s - loss: 0.0686\n",
      "Epoch 00028: val_loss did not improve\n",
      "823284/823284 [==============================] - 8s 10us/step - loss: 0.0687 - val_loss: 0.1486\n",
      "Epoch 29/250\n",
      "819200/823284 [============================>.] - ETA: 0s - loss: 0.0685\n",
      "Epoch 00029: val_loss did not improve\n",
      "823284/823284 [==============================] - 8s 10us/step - loss: 0.0685 - val_loss: 0.1477\n",
      "Epoch 30/250\n",
      "819200/823284 [============================>.] - ETA: 0s - loss: 0.0684\n",
      "Epoch 00030: val_loss did not improve\n",
      "823284/823284 [==============================] - 8s 10us/step - loss: 0.0684 - val_loss: 0.1462\n",
      "Epoch 31/250\n",
      "819200/823284 [============================>.] - ETA: 0s - loss: 0.0682\n",
      "Epoch 00031: val_loss did not improve\n",
      "823284/823284 [==============================] - 8s 10us/step - loss: 0.0682 - val_loss: 0.1460\n",
      "Epoch 32/250\n",
      "819200/823284 [============================>.] - ETA: 0s - loss: 0.0681\n",
      "Epoch 00032: val_loss did not improve\n",
      "823284/823284 [==============================] - 8s 10us/step - loss: 0.0681 - val_loss: 0.1463\n"
     ]
    }
   ],
   "source": [
    "hist = model.fit(\n",
    "    norm_train_x, norm_train_y,\n",
    "    batch_size=2048, epochs=250,\n",
    "    shuffle=True,\n",
    "    callbacks=[\n",
    "        ReduceLROnPlateau(factor=0.2, verbose=1, min_lr=1e-6),\n",
    "        ModelCheckpoint('dev/models/weights-w.{epoch:04d}-{val_loss:.4f}.hdf5',\n",
    "                        verbose=1, save_best_only=True),\n",
    "        TensorBoard('dev/logs/', write_graph=False, write_grads=True),\n",
    "        EarlyStopping(min_delta=0.0001, patience=30),\n",
    "    ],\n",
    "    validation_data=(norm_test_x, norm_test_y)\n",
    ")"
   ]
  },
  {
   "cell_type": "code",
   "execution_count": 59,
   "metadata": {},
   "outputs": [],
   "source": [
    "def plot_preds(ypred, ytrue):\n",
    "    minn = max(min(ypred), min(ytrue))\n",
    "    maxx = min(max(ypred), max(ytrue))\n",
    "    \n",
    "    plt.scatter(ytrue, ypred, s=2)\n",
    "    plt.plot([minn, maxx], [minn, maxx], 'r--')\n",
    "    plt.xlabel('True')\n",
    "    plt.ylabel('Predicted')\n",
    "    \n",
    "    plt.show()"
   ]
  },
  {
   "cell_type": "code",
   "execution_count": 91,
   "metadata": {},
   "outputs": [
    {
     "data": {
      "image/png": "[encoded data removed]",
      "text/plain": [
       "<matplotlib.figure.Figure at 0x7f39e9372860>"
      ]
     },
     "metadata": {},
     "output_type": "display_data"
    },
    {
     "name": "stdout",
     "output_type": "stream",
     "text": [
      "Explained variance 0.8711198015330996\n",
      "Mean absolute error 0.43046116433517867\n",
      "Mean squared error 0.43789031325265876\n",
      "Median absolute error 0.28402285193515076\n",
      "R2 score 0.8704058092112739\n",
      "Mean absolute percent error [66.71847]\n"
     ]
    }
   ],
   "source": [
    "best_model = load_model('dev/models/weights-w.0008-0.1295.hdf5')\n",
    "y_pred = best_model.predict(norm_test_x)\n",
    "\n",
    "# denormalize\n",
    "test_deno = norm_test_y * std_y + mean_y\n",
    "pred_deno = y_pred * std_y + mean_y\n",
    "\n",
    "plot_preds(pred_deno, test_deno)\n",
    "\n",
    "print('Explained variance', metrics.explained_variance_score(test_deno, pred_deno))\n",
    "print('Mean absolute error', metrics.mean_absolute_error(test_deno, pred_deno))\n",
    "print('Mean squared error', metrics.mean_squared_error(test_deno, pred_deno))\n",
    "print('Median absolute error', metrics.median_absolute_error(test_deno, pred_deno))\n",
    "print('R2 score', metrics.r2_score(test_deno, pred_deno))\n",
    "mape = 100 * sum(abs((yt - yp) / yt) for yt, yp in zip(test_deno, pred_deno)) / len(test_deno)\n",
    "print('Mean absolute percent error', mape)"
   ]
  },
  {
   "cell_type": "code",
   "execution_count": null,
   "metadata": {},
   "outputs": [],
   "source": []
  }
 ],
 "metadata": {
  "kernelspec": {
   "display_name": "Python 3",
   "language": "python",
   "name": "python3"
  },
  "language_info": {
   "codemirror_mode": {
    "name": "ipython",
    "version": 3
   },
   "file_extension": ".py",
   "mimetype": "text/x-python",
   "name": "python",
   "nbconvert_exporter": "python",
   "pygments_lexer": "ipython3",
   "version": "3.6.3"
  }
 },
 "nbformat": 4,
 "nbformat_minor": 2
}
