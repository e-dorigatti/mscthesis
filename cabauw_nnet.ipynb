{
 "cells": [
  {
   "cell_type": "code",
   "execution_count": 22,
   "metadata": {},
   "outputs": [],
   "source": [
    "from keras.models import Sequential\n",
    "from keras.layers import Dense, Dropout\n",
    "import pandas as pd"
   ]
  },
  {
   "cell_type": "code",
   "execution_count": 2,
   "metadata": {},
   "outputs": [],
   "source": [
    "dframe_path = 'data/cabauw/processed.csv'\n",
    "\n",
    "try:\n",
    "    df = pd.read_csv(dframe_path, na_values='--')\n",
    "except UnicodeDecodeError:\n",
    "    df = pd.read_csv(dframe_path, na_values='--', compression='gzip')\n",
    "\n",
    "\n",
    "df = df[(df.ustar > 0.1) & (abs(df.H) > 10) & (df.wind > 1)]\n",
    "df = df[df.ds != 201603]\n",
    "#df = df.sort_values(['ds', 'tt'])\n",
    "df = df.sample(frac=1)  # aka shuffle"
   ]
  },
  {
   "cell_type": "code",
   "execution_count": 3,
   "metadata": {},
   "outputs": [],
   "source": [
    "features = [\n",
    "    'air_dens', 'surf_temp', 'spec_hum', 'rel_hum', 'press', 'rain',\n",
    "    'wind', 'ustar', 'H', 'LE', 'zL_m', 'lval'\n",
    "]\n",
    "train_x = df[features]\n",
    "train_y = df.phi_m"
   ]
  },
  {
   "cell_type": "code",
   "execution_count": 42,
   "metadata": {},
   "outputs": [
    {
     "name": "stdout",
     "output_type": "stream",
     "text": [
      "_________________________________________________________________\n",
      "Layer (type)                 Output Shape              Param #   \n",
      "=================================================================\n",
      "dense_57 (Dense)             (None, 512)               6656      \n",
      "_________________________________________________________________\n",
      "dropout_10 (Dropout)         (None, 512)               0         \n",
      "_________________________________________________________________\n",
      "dense_58 (Dense)             (None, 1024)              525312    \n",
      "_________________________________________________________________\n",
      "dropout_11 (Dropout)         (None, 1024)              0         \n",
      "_________________________________________________________________\n",
      "dense_59 (Dense)             (None, 1024)              1049600   \n",
      "_________________________________________________________________\n",
      "dropout_12 (Dropout)         (None, 1024)              0         \n",
      "_________________________________________________________________\n",
      "dense_60 (Dense)             (None, 256)               262400    \n",
      "_________________________________________________________________\n",
      "dense_61 (Dense)             (None, 32)                8224      \n",
      "_________________________________________________________________\n",
      "dense_62 (Dense)             (None, 8)                 264       \n",
      "_________________________________________________________________\n",
      "dense_63 (Dense)             (None, 1)                 9         \n",
      "=================================================================\n",
      "Total params: 1,852,465\n",
      "Trainable params: 1,852,465\n",
      "Non-trainable params: 0\n",
      "_________________________________________________________________\n"
     ]
    }
   ],
   "source": [
    "model = Sequential([\n",
    "    Dense(512, activation='elu', input_shape=(len(features),)),\n",
    "    Dropout(0.5),\n",
    "    Dense(1024, activation='elu'),\n",
    "    Dropout(0.5),\n",
    "    Dense(1024, activation='elu'),\n",
    "    Dropout(0.5),\n",
    "    Dense(256, activation='elu'),\n",
    "    Dense(32, activation='elu'),\n",
    "    Dense(8, activation='elu'),\n",
    "    Dense(1)\n",
    "])\n",
    "\n",
    "model.compile(loss='mse', optimizer='rmsprop')\n",
    "model.summary()"
   ]
  },
  {
   "cell_type": "code",
   "execution_count": null,
   "metadata": {},
   "outputs": [
    {
     "name": "stdout",
     "output_type": "stream",
     "text": [
      "Train on 390748 samples, validate on 130250 samples\n",
      "Epoch 1/1\n",
      "390748/390748 [==============================] - 113s 289us/step - loss: 474012.6922 - val_loss: 0.1885\n",
      "Train on 390748 samples, validate on 130250 samples\n",
      "Epoch 1/1\n",
      "390748/390748 [==============================] - 58s 148us/step - loss: 397759.2209 - val_loss: 0.1484\n",
      "Train on 390748 samples, validate on 130250 samples\n",
      "Epoch 1/1\n",
      "390748/390748 [==============================] - 34s 88us/step - loss: 477051.1789 - val_loss: 0.1488\n",
      "Train on 390748 samples, validate on 130250 samples\n",
      "Epoch 1/10\n",
      "390748/390748 [==============================] - 12s 30us/step - loss: 6459.9101 - val_loss: 0.1557\n",
      "Epoch 2/10\n",
      "390748/390748 [==============================] - 12s 31us/step - loss: 68.6105 - val_loss: 0.1529\n",
      "Epoch 3/10\n",
      "390748/390748 [==============================] - 12s 30us/step - loss: 5.5826 - val_loss: 0.1477\n",
      "Epoch 4/10\n",
      "390748/390748 [==============================] - 12s 31us/step - loss: 1295.8704 - val_loss: 0.1418\n",
      "Epoch 5/10\n",
      "390748/390748 [==============================] - 12s 30us/step - loss: 2640.8554 - val_loss: 0.1283\n",
      "Epoch 6/10\n",
      "390748/390748 [==============================] - 12s 31us/step - loss: 54.5732 - val_loss: 0.1244\n",
      "Epoch 7/10\n",
      "390748/390748 [==============================] - 12s 30us/step - loss: 0.2940 - val_loss: 0.1209\n",
      "Epoch 8/10\n",
      "390748/390748 [==============================] - 12s 30us/step - loss: 161400.6888 - val_loss: 0.1278\n",
      "Epoch 9/10\n",
      "390748/390748 [==============================] - 12s 30us/step - loss: 15852891.4552 - val_loss: 0.1309\n",
      "Epoch 10/10\n",
      "390748/390748 [==============================] - 12s 31us/step - loss: 31.0764 - val_loss: 0.1172\n",
      "Train on 390748 samples, validate on 130250 samples\n",
      "Epoch 1/25\n",
      "390748/390748 [==============================] - 9s 22us/step - loss: 6199.2553 - val_loss: 0.1261\n",
      "Epoch 2/25\n",
      "390748/390748 [==============================] - 9s 22us/step - loss: 0.2404 - val_loss: 0.1274\n",
      "Epoch 3/25\n",
      "390748/390748 [==============================] - 9s 23us/step - loss: 0.1798 - val_loss: 0.1226\n",
      "Epoch 4/25\n",
      "390748/390748 [==============================] - 9s 22us/step - loss: 0.1758 - val_loss: 0.1346\n",
      "Epoch 5/25\n",
      "390748/390748 [==============================] - 9s 22us/step - loss: 0.1792 - val_loss: 0.1029\n",
      "Epoch 6/25\n",
      "390748/390748 [==============================] - 9s 22us/step - loss: 0.1752 - val_loss: 0.1322\n",
      "Epoch 7/25\n",
      "390748/390748 [==============================] - 9s 22us/step - loss: 0.1778 - val_loss: 0.1383\n",
      "Epoch 8/25\n",
      "390748/390748 [==============================] - 9s 22us/step - loss: 11.6282 - val_loss: 0.1317\n",
      "Epoch 9/25\n",
      "390748/390748 [==============================] - 9s 22us/step - loss: 0.1722 - val_loss: 0.1189\n",
      "Epoch 10/25\n",
      "390748/390748 [==============================] - 9s 22us/step - loss: 0.1686 - val_loss: 0.1225\n",
      "Epoch 11/25\n",
      "390748/390748 [==============================] - 9s 22us/step - loss: 0.1704 - val_loss: 0.1478\n",
      "Epoch 12/25\n",
      "390748/390748 [==============================] - 9s 22us/step - loss: 0.1687 - val_loss: 0.1315\n",
      "Epoch 13/25\n",
      "390748/390748 [==============================] - 9s 22us/step - loss: 0.1700 - val_loss: 0.1661\n",
      "Epoch 14/25\n",
      "390748/390748 [==============================] - 9s 22us/step - loss: 141.3865 - val_loss: 0.1165\n",
      "Epoch 15/25\n",
      "390748/390748 [==============================] - 9s 22us/step - loss: 0.1582 - val_loss: 0.1033\n",
      "Epoch 16/25\n",
      "390748/390748 [==============================] - 9s 22us/step - loss: 0.1582 - val_loss: 0.1276\n",
      "Epoch 17/25\n",
      "390748/390748 [==============================] - 9s 22us/step - loss: 0.2451 - val_loss: 0.1300\n",
      "Epoch 18/25\n",
      "390748/390748 [==============================] - 9s 22us/step - loss: 0.1613 - val_loss: 0.1252\n",
      "Epoch 19/25\n",
      "390748/390748 [==============================] - 9s 22us/step - loss: 0.2330 - val_loss: 0.1246\n",
      "Epoch 20/25\n",
      "390748/390748 [==============================] - 9s 22us/step - loss: 0.1642 - val_loss: 0.1506\n",
      "Epoch 21/25\n",
      "390748/390748 [==============================] - 9s 22us/step - loss: 0.6841 - val_loss: 0.1271\n",
      "Epoch 22/25\n",
      "229376/390748 [================>.............] - ETA: 3s - loss: 0.1628"
     ]
    }
   ],
   "source": [
    "model.fit(train_x, train_y, batch_size=32, epochs=1, validation_split=0.25)\n",
    "model.fit(train_x, train_y, batch_size=64, epochs=1, validation_split=0.25)\n",
    "model.fit(train_x, train_y, batch_size=128, epochs=1, validation_split=0.25)\n",
    "model.fit(train_x, train_y, batch_size=1024, epochs=10, validation_split=0.25)\n",
    "model.fit(train_x, train_y, batch_size=8192, epochs=25, validation_split=0.25)"
   ]
  },
  {
   "cell_type": "code",
   "execution_count": null,
   "metadata": {},
   "outputs": [],
   "source": []
  }
 ],
 "metadata": {
  "kernelspec": {
   "display_name": "Python 3",
   "language": "python",
   "name": "python3"
  },
  "language_info": {
   "codemirror_mode": {
    "name": "ipython",
    "version": 3
   },
   "file_extension": ".py",
   "mimetype": "text/x-python",
   "name": "python",
   "nbconvert_exporter": "python",
   "pygments_lexer": "ipython3",
   "version": "3.6.3"
  }
 },
 "nbformat": 4,
 "nbformat_minor": 2
}
