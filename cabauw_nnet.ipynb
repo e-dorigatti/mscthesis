{
 "cells": [
  {
   "cell_type": "code",
   "execution_count": 34,
   "metadata": {},
   "outputs": [],
   "source": [
    "import pandas as pd\n",
    "from hkfold import HKFold\n",
    "from sklearn.model_selection import KFold\n",
    "import matplotlib.pyplot as plt\n",
    "import numpy as np\n",
    "import datetime\n",
    "import time\n",
    "import bisect\n",
    "import seaborn as sns\n",
    "sns.set()\n",
    "from keras.layers import PReLU\n",
    "from sklearn.utils import shuffle\n",
    "from keras.optimizers import RMSprop, Adam\n",
    "from keras.callbacks import ReduceLROnPlateau, ModelCheckpoint, TensorBoard, EarlyStopping\n",
    "from keras.models import Sequential, Model\n",
    "from keras.layers import Dense, Dropout, BatchNormalization, GaussianNoise, Input\n",
    "from keras.models import load_model\n",
    "from sklearn import metrics"
   ]
  },
  {
   "cell_type": "code",
   "execution_count": 14,
   "metadata": {},
   "outputs": [],
   "source": [
    "dframe_path = 'data/cabauw/processed.csv.gz'\n",
    "\n",
    "try:\n",
    "    df = pd.read_csv(dframe_path, na_values='--')\n",
    "except UnicodeDecodeError:\n",
    "    df = pd.read_csv(dframe_path, na_values='--', compression='gzip')"
   ]
  },
  {
   "cell_type": "code",
   "execution_count": 22,
   "metadata": {},
   "outputs": [],
   "source": [
    "df = df[(df.ustar > 0.1) & (abs(df.H) > 10) & (df.wind > 1)]\n",
    "df = df[df.ds != 201603]\n",
    "df = df[df.z > 10]"
   ]
  },
  {
   "cell_type": "code",
   "execution_count": 53,
   "metadata": {},
   "outputs": [],
   "source": [
    "# large-scale parameters, should be included\n",
    "F1 = [\n",
    "    'dewpoint', 'spec_hum', 'press', 'temp', 'air_dens', \n",
    "    'virtual_temp', 'rel_hum', 'rain', 'z', 'wind'\n",
    "]\n",
    "\n",
    "# fluxes, better if not included\n",
    "F2 = [\n",
    "    'H', 'LE',\n",
    "]\n",
    "\n",
    "# radiation, no idea but probably should not include\n",
    "F3 = [\n",
    "    'co2flux', 'soilheat', 'netrad'\n",
    "]\n",
    "\n",
    "# we must be desperate to use these to make it work\n",
    "F4 = [\n",
    "    'lval', 'zL', 'ustar'\n",
    "]\n",
    "\n",
    "features = F1 #+ F2 + F3 + F4\n",
    "\n",
    "target = 'phi_m'"
   ]
  },
  {
   "cell_type": "code",
   "execution_count": 116,
   "metadata": {},
   "outputs": [],
   "source": [
    "def to_unix_datetime(year, month, daym, hday):\n",
    "    minute = 60 * (hday - int(hday))\n",
    "    second = 60 * (minute - int(minute))\n",
    "    \n",
    "    dt = datetime.datetime(\n",
    "        year=int(year), month=int(month), day=int(daym) + 1,\n",
    "        hour=int(hday), minute=int(minute), second=int(second)\n",
    "    )\n",
    "    \n",
    "    return dt\n",
    "    return int(time.mktime(dt.timetuple()))  # no need for sub-second resolution\n",
    "\n",
    "\n",
    "def compute_trend(df, column, interval=60*60):\n",
    "    sorted_df = df.sort_values(['qqq', 'z'])\n",
    "    index = sorted_df.iloc\n",
    "\n",
    "    def find_record(dt, z, direction, boundary_dt):\n",
    "        # find the row at level z with datetime closest to dt\n",
    "        # search by moving in given direction (increase/decrease dt)\n",
    "        # until dt is reached\n",
    "        \n",
    "        direction = int(direction / abs(direction))  # convert to +/- 1\n",
    "        assert direction == 1 or direction == -1\n",
    "\n",
    "        find = bisect.bisect_left if direction > 0 else bisect.bisect_right\n",
    "        pos = left_pos = min(len(sorted_df) - 1, find(sorted_df.qqq.values, dt))\n",
    "\n",
    "        while (pos < len(sorted_df) and\n",
    "               index[pos].z != z and\n",
    "               (index[pos].qqq - boundary_dt) * direction <= 0):\n",
    "\n",
    "            pos += direction\n",
    "\n",
    "        assert index[pos].z == z, 'no observation at the same level'\n",
    "        return index[pos]\n",
    "\n",
    "    def compute(row):\n",
    "        sample_before = find_record(row.qqq - interval, row.z, 1, row.qqq)\n",
    "        sample_after = find_record(row.qqq + interval, row.z, -1, row.qqq)\n",
    "\n",
    "        dval = sample_after[column] - sample_before[column]\n",
    "        dtime = sample_after.qqq - sample_before.qqq\n",
    "        \n",
    "        return dval / dtime\n",
    "\n",
    "    return compute\n",
    "\n",
    "\n",
    "compute_trends = False\n",
    "\n",
    "df = df.assign(\n",
    "    dtime=lambda df: df.apply(\n",
    "        lambda row: to_unix_datetime(row.year, row.month, row.daym, row.hday),\n",
    "        axis=1\n",
    "    )\n",
    ")\n",
    "\n",
    "# NB: for some training samples, the trend is computed using some test samples\n",
    "if compute_trends:\n",
    "    if 'dtime' not in df.columns:\n",
    "        df = df.assign(\n",
    "            dtime=lambda df: df.apply(\n",
    "                lambda row: to_unix_datetime(row.year, row.month, row.daym, row.hday),\n",
    "                axis=1\n",
    "            )\n",
    "        )\n",
    "        \n",
    "    df = df.assign(**{\n",
    "        '%s_trend' % col: lambda df: df.apply(compute_trend(df, col) , axis=1)\n",
    "        for col in features if not col.endswith('_trend')\n",
    "    }).compute()\n",
    "\n",
    "    features = set(features + ['%s_trend' % f for f in features])"
   ]
  },
  {
   "cell_type": "code",
   "execution_count": 246,
   "metadata": {
    "collapsed": true
   },
   "outputs": [
    {
     "name": "stdout",
     "output_type": "stream",
     "text": [
      "40.0\n",
      "dewpoint\n",
      "spec_hum\n",
      "press\n",
      "temp\n",
      "air_dens\n",
      "virtual_temp\n",
      "rel_hum\n",
      "rain\n",
      "soil_temp\n",
      "z\n",
      "wind\n",
      "H\n",
      "LE\n",
      "co2flux\n",
      "soilheat\n",
      "netrad\n",
      "20.0\n",
      "dewpoint\n",
      "spec_hum\n",
      "press\n",
      "temp\n",
      "air_dens\n",
      "virtual_temp\n",
      "rel_hum\n",
      "rain\n",
      "soil_temp\n",
      "z\n",
      "wind\n",
      "H\n",
      "LE\n",
      "co2flux\n",
      "soilheat\n",
      "netrad\n"
     ]
    }
   ],
   "source": [
    "from collections import deque\n",
    "\n",
    "\n",
    "def make_index(dtimes):\n",
    "    index = []\n",
    "    window = deque()\n",
    "    for i, dt in enumerate(dtimes):\n",
    "        window.append((i, dt))\n",
    "        if abs(window[0][1] - window[-1][1]) > 3600:\n",
    "            window.popleft()\n",
    "        index.append(window[0][0])\n",
    "\n",
    "    return np.array(index)\n",
    "\n",
    "\n",
    "def compute_trend(df, columns):\n",
    "    df = df.sort_values('qqq')\n",
    "    for z in df.z.unique():  \n",
    "        print(z)\n",
    "        sorted_df = df[df.z == z]\n",
    "        index_below = make_index(sorted_df.qqq.values)\n",
    "        above_reversed = make_index(sorted_df.qqq.values[::-1])\n",
    "        index_above = len(sorted_df) - above_reversed[::-1] - 1\n",
    "\n",
    "        for col in columns:\n",
    "            print(col)\n",
    "            val_above = sorted_df.iloc[index_above][col].values\n",
    "            val_below = sorted_df.iloc[index_below][col].values\n",
    "\n",
    "            time_above = sorted_df.iloc[index_above].qqq.values\n",
    "            time_below = sorted_df.iloc[index_below].qqq.values\n",
    "\n",
    "            trend = 3600 * dval / dtime\n",
    "\n",
    "            df.loc[df.z == z, col + '_trend'] = 3600 * dval / dtime\n",
    "            df.loc[df.z == z, col + '_trend_1'] = sorted_df.index[index_above]\n",
    "            df.loc[df.z == z, col + '_trend_2'] = sorted_df.index[index_above]\n",
    "\n",
    "    return df\n",
    "\n",
    "asd = compute_trend(df, ['H', 'temp'])"
   ]
  },
  {
   "cell_type": "code",
   "execution_count": 252,
   "metadata": {
    "collapsed": true
   },
   "outputs": [
    {
     "data": {
      "image/png": "[encoded data removed]",
      "text/plain": [
       "<matplotlib.figure.Figure at 0x7fab4c5585f8>"
      ]
     },
     "metadata": {},
     "output_type": "display_data"
    },
    {
     "data": {
      "image/png": "[encoded data removed]",
      "text/plain": [
       "<matplotlib.figure.Figure at 0x7fab4cb3eb38>"
      ]
     },
     "metadata": {},
     "output_type": "display_data"
    }
   ],
   "source": [
    "tt = asd[asd.year == 2005]\n",
    "plt.scatter(tt.hday, tt.H_trend, s=1)\n",
    "plt.show()\n",
    "plt.scatter(df.hday, df.H, s=1)\n",
    "plt.show()"
   ]
  },
  {
   "cell_type": "code",
   "execution_count": 54,
   "metadata": {},
   "outputs": [
    {
     "name": "stdout",
     "output_type": "stream",
     "text": [
      "training with 885564, testing with 55244\n"
     ]
    }
   ],
   "source": [
    "test_ds = np.random.choice(df.ds.unique(), 12, replace=False)\n",
    "test_mask = df.ds.isin(test_ds)\n",
    "train_x, train_y = df[~test_mask][features], df[~test_mask][target]\n",
    "test_x, test_y = df[test_mask][features], df[test_mask][target]\n",
    "train_x, train_y = shuffle(train_x, train_y)\n",
    "\n",
    "print('training with %d, testing with %d' % (len(train_x), len(test_x)))"
   ]
  },
  {
   "cell_type": "code",
   "execution_count": 55,
   "metadata": {
    "scrolled": true
   },
   "outputs": [],
   "source": [
    "mean_x, mean_y = train_x.mean(), train_y.mean()\n",
    "std_x, std_y = train_x.std(), train_y.std()\n",
    "\n",
    "norm_train_x = (train_x - mean_x) /  std_x\n",
    "norm_test_x = (test_x - mean_x) / std_x\n",
    "\n",
    "norm_train_y = (train_y - mean_y) / std_y\n",
    "norm_test_y = (test_y - mean_y) / std_y"
   ]
  },
  {
   "cell_type": "code",
   "execution_count": 62,
   "metadata": {
    "scrolled": false
   },
   "outputs": [
    {
     "name": "stdout",
     "output_type": "stream",
     "text": [
      "_________________________________________________________________\n",
      "Layer (type)                 Output Shape              Param #   \n",
      "=================================================================\n",
      "input_9 (InputLayer)         (None, 10)                0         \n",
      "_________________________________________________________________\n",
      "dense_50 (Dense)             (None, 1024)              11264     \n",
      "_________________________________________________________________\n",
      "p_re_lu_50 (PReLU)           (None, 1024)              1024      \n",
      "_________________________________________________________________\n",
      "dense_51 (Dense)             (None, 512)               524800    \n",
      "_________________________________________________________________\n",
      "p_re_lu_51 (PReLU)           (None, 512)               512       \n",
      "_________________________________________________________________\n",
      "dense_52 (Dense)             (None, 256)               131328    \n",
      "_________________________________________________________________\n",
      "p_re_lu_52 (PReLU)           (None, 256)               256       \n",
      "_________________________________________________________________\n",
      "dense_53 (Dense)             (None, 32)                8224      \n",
      "_________________________________________________________________\n",
      "p_re_lu_53 (PReLU)           (None, 32)                32        \n",
      "_________________________________________________________________\n",
      "dense_54 (Dense)             (None, 1)                 33        \n",
      "_________________________________________________________________\n",
      "p_re_lu_54 (PReLU)           (None, 1)                 1         \n",
      "=================================================================\n",
      "Total params: 677,474\n",
      "Trainable params: 677,474\n",
      "Non-trainable params: 0\n",
      "_________________________________________________________________\n"
     ]
    }
   ],
   "source": [
    "ll = model_input = Input(shape=(len(features),))\n",
    "ll = PReLU()(Dense(1024)(ll))\n",
    "ll = PReLU()(Dense(512)(ll))\n",
    "ll = PReLU()(Dense(256)(ll))\n",
    "ll = PReLU()(Dense(32)(ll))\n",
    "ll = PReLU()(Dense(1)(ll))\n",
    "\n",
    "opt = RMSprop(lr=0.001)\n",
    "model = Model(inputs=model_input, outputs=ll)\n",
    "model.compile(loss='mse', optimizer=opt)\n",
    "model.summary()"
   ]
  },
  {
   "cell_type": "code",
   "execution_count": 63,
   "metadata": {
    "scrolled": false
   },
   "outputs": [
    {
     "name": "stdout",
     "output_type": "stream",
     "text": [
      "Train on 885564 samples, validate on 55244 samples\n",
      "Epoch 1/250\n",
      "880640/885564 [============================>.] - ETA: 0s - loss: 0.5218\n",
      "Epoch 00001: val_loss improved from inf to 0.34700, saving model to dev/models/weights-w.0001-0.3470.hdf5\n",
      "885564/885564 [==============================] - 10s 11us/step - loss: 0.5207 - val_loss: 0.3470\n",
      "Epoch 2/250\n",
      "880640/885564 [============================>.] - ETA: 0s - loss: 0.3589\n",
      "Epoch 00002: val_loss did not improve\n",
      "885564/885564 [==============================] - 9s 11us/step - loss: 0.3589 - val_loss: 0.3731\n",
      "Epoch 3/250\n",
      "880640/885564 [============================>.] - ETA: 0s - loss: 0.3309\n",
      "Epoch 00003: val_loss improved from 0.34700 to 0.31975, saving model to dev/models/weights-w.0003-0.3197.hdf5\n",
      "885564/885564 [==============================] - 10s 11us/step - loss: 0.3307 - val_loss: 0.3197\n",
      "Epoch 4/250\n",
      "880640/885564 [============================>.] - ETA: 0s - loss: 0.3178\n",
      "Epoch 00004: val_loss did not improve\n",
      "885564/885564 [==============================] - 10s 11us/step - loss: 0.3177 - val_loss: 0.3451\n",
      "Epoch 5/250\n",
      "880640/885564 [============================>.] - ETA: 0s - loss: 0.3093\n",
      "Epoch 00005: val_loss improved from 0.31975 to 0.31780, saving model to dev/models/weights-w.0005-0.3178.hdf5\n",
      "885564/885564 [==============================] - 10s 11us/step - loss: 0.3092 - val_loss: 0.3178\n",
      "Epoch 6/250\n",
      "880640/885564 [============================>.] - ETA: 0s - loss: 0.3028\n",
      "Epoch 00006: val_loss improved from 0.31780 to 0.31516, saving model to dev/models/weights-w.0006-0.3152.hdf5\n",
      "885564/885564 [==============================] - 10s 11us/step - loss: 0.3025 - val_loss: 0.3152\n",
      "Epoch 7/250\n",
      "880640/885564 [============================>.] - ETA: 0s - loss: 0.2967\n",
      "Epoch 00007: val_loss did not improve\n",
      "885564/885564 [==============================] - 10s 11us/step - loss: 0.2966 - val_loss: 0.3275\n",
      "Epoch 8/250\n",
      "880640/885564 [============================>.] - ETA: 0s - loss: 0.2913\n",
      "Epoch 00008: val_loss did not improve\n",
      "885564/885564 [==============================] - 10s 11us/step - loss: 0.2914 - val_loss: 0.3410\n",
      "Epoch 9/250\n",
      "684032/885564 [======================>.......] - ETA: 2s - loss: 0.2876"
     ]
    },
    {
     "ename": "KeyboardInterrupt",
     "evalue": "",
     "output_type": "error",
     "traceback": [
      "\u001b[0;31m---------------------------------------------------------------------------\u001b[0m",
      "\u001b[0;31mKeyboardInterrupt\u001b[0m                         Traceback (most recent call last)",
      "\u001b[0;32m<ipython-input-63-3da97253a5aa>\u001b[0m in \u001b[0;36m<module>\u001b[0;34m()\u001b[0m\n\u001b[1;32m     10\u001b[0m         \u001b[0mEarlyStopping\u001b[0m\u001b[0;34m(\u001b[0m\u001b[0mmin_delta\u001b[0m\u001b[0;34m=\u001b[0m\u001b[0;36m0.0001\u001b[0m\u001b[0;34m,\u001b[0m \u001b[0mpatience\u001b[0m\u001b[0;34m=\u001b[0m\u001b[0;36m30\u001b[0m\u001b[0;34m)\u001b[0m\u001b[0;34m,\u001b[0m\u001b[0;34m\u001b[0m\u001b[0m\n\u001b[1;32m     11\u001b[0m     ],\n\u001b[0;32m---> 12\u001b[0;31m     \u001b[0mvalidation_data\u001b[0m\u001b[0;34m=\u001b[0m\u001b[0;34m(\u001b[0m\u001b[0mnorm_test_x\u001b[0m\u001b[0;34m,\u001b[0m \u001b[0mnorm_test_y\u001b[0m\u001b[0;34m)\u001b[0m\u001b[0;34m\u001b[0m\u001b[0m\n\u001b[0m\u001b[1;32m     13\u001b[0m )\n",
      "\u001b[0;32m/usr/local/lib/python3.6/dist-packages/keras/engine/training.py\u001b[0m in \u001b[0;36mfit\u001b[0;34m(self, x, y, batch_size, epochs, verbose, callbacks, validation_split, validation_data, shuffle, class_weight, sample_weight, initial_epoch, steps_per_epoch, validation_steps, **kwargs)\u001b[0m\n\u001b[1;32m   1667\u001b[0m                               \u001b[0minitial_epoch\u001b[0m\u001b[0;34m=\u001b[0m\u001b[0minitial_epoch\u001b[0m\u001b[0;34m,\u001b[0m\u001b[0;34m\u001b[0m\u001b[0m\n\u001b[1;32m   1668\u001b[0m                               \u001b[0msteps_per_epoch\u001b[0m\u001b[0;34m=\u001b[0m\u001b[0msteps_per_epoch\u001b[0m\u001b[0;34m,\u001b[0m\u001b[0;34m\u001b[0m\u001b[0m\n\u001b[0;32m-> 1669\u001b[0;31m                               validation_steps=validation_steps)\n\u001b[0m\u001b[1;32m   1670\u001b[0m \u001b[0;34m\u001b[0m\u001b[0m\n\u001b[1;32m   1671\u001b[0m     def evaluate(self, x=None, y=None,\n",
      "\u001b[0;32m/usr/local/lib/python3.6/dist-packages/keras/engine/training.py\u001b[0m in \u001b[0;36m_fit_loop\u001b[0;34m(self, f, ins, out_labels, batch_size, epochs, verbose, callbacks, val_f, val_ins, shuffle, callback_metrics, initial_epoch, steps_per_epoch, validation_steps)\u001b[0m\n\u001b[1;32m   1204\u001b[0m                         \u001b[0mins_batch\u001b[0m\u001b[0;34m[\u001b[0m\u001b[0mi\u001b[0m\u001b[0;34m]\u001b[0m \u001b[0;34m=\u001b[0m \u001b[0mins_batch\u001b[0m\u001b[0;34m[\u001b[0m\u001b[0mi\u001b[0m\u001b[0;34m]\u001b[0m\u001b[0;34m.\u001b[0m\u001b[0mtoarray\u001b[0m\u001b[0;34m(\u001b[0m\u001b[0;34m)\u001b[0m\u001b[0;34m\u001b[0m\u001b[0m\n\u001b[1;32m   1205\u001b[0m \u001b[0;34m\u001b[0m\u001b[0m\n\u001b[0;32m-> 1206\u001b[0;31m                     \u001b[0mouts\u001b[0m \u001b[0;34m=\u001b[0m \u001b[0mf\u001b[0m\u001b[0;34m(\u001b[0m\u001b[0mins_batch\u001b[0m\u001b[0;34m)\u001b[0m\u001b[0;34m\u001b[0m\u001b[0m\n\u001b[0m\u001b[1;32m   1207\u001b[0m                     \u001b[0;32mif\u001b[0m \u001b[0;32mnot\u001b[0m \u001b[0misinstance\u001b[0m\u001b[0;34m(\u001b[0m\u001b[0mouts\u001b[0m\u001b[0;34m,\u001b[0m \u001b[0mlist\u001b[0m\u001b[0;34m)\u001b[0m\u001b[0;34m:\u001b[0m\u001b[0;34m\u001b[0m\u001b[0m\n\u001b[1;32m   1208\u001b[0m                         \u001b[0mouts\u001b[0m \u001b[0;34m=\u001b[0m \u001b[0;34m[\u001b[0m\u001b[0mouts\u001b[0m\u001b[0;34m]\u001b[0m\u001b[0;34m\u001b[0m\u001b[0m\n",
      "\u001b[0;32m/usr/local/lib/python3.6/dist-packages/keras/backend/tensorflow_backend.py\u001b[0m in \u001b[0;36m__call__\u001b[0;34m(self, inputs)\u001b[0m\n\u001b[1;32m   2473\u001b[0m         \u001b[0msession\u001b[0m \u001b[0;34m=\u001b[0m \u001b[0mget_session\u001b[0m\u001b[0;34m(\u001b[0m\u001b[0;34m)\u001b[0m\u001b[0;34m\u001b[0m\u001b[0m\n\u001b[1;32m   2474\u001b[0m         updated = session.run(fetches=fetches, feed_dict=feed_dict,\n\u001b[0;32m-> 2475\u001b[0;31m                               **self.session_kwargs)\n\u001b[0m\u001b[1;32m   2476\u001b[0m         \u001b[0;32mreturn\u001b[0m \u001b[0mupdated\u001b[0m\u001b[0;34m[\u001b[0m\u001b[0;34m:\u001b[0m\u001b[0mlen\u001b[0m\u001b[0;34m(\u001b[0m\u001b[0mself\u001b[0m\u001b[0;34m.\u001b[0m\u001b[0moutputs\u001b[0m\u001b[0;34m)\u001b[0m\u001b[0;34m]\u001b[0m\u001b[0;34m\u001b[0m\u001b[0m\n\u001b[1;32m   2477\u001b[0m \u001b[0;34m\u001b[0m\u001b[0m\n",
      "\u001b[0;32m/usr/local/lib/python3.6/dist-packages/tensorflow/python/client/session.py\u001b[0m in \u001b[0;36mrun\u001b[0;34m(self, fetches, feed_dict, options, run_metadata)\u001b[0m\n\u001b[1;32m    903\u001b[0m     \u001b[0;32mtry\u001b[0m\u001b[0;34m:\u001b[0m\u001b[0;34m\u001b[0m\u001b[0m\n\u001b[1;32m    904\u001b[0m       result = self._run(None, fetches, feed_dict, options_ptr,\n\u001b[0;32m--> 905\u001b[0;31m                          run_metadata_ptr)\n\u001b[0m\u001b[1;32m    906\u001b[0m       \u001b[0;32mif\u001b[0m \u001b[0mrun_metadata\u001b[0m\u001b[0;34m:\u001b[0m\u001b[0;34m\u001b[0m\u001b[0m\n\u001b[1;32m    907\u001b[0m         \u001b[0mproto_data\u001b[0m \u001b[0;34m=\u001b[0m \u001b[0mtf_session\u001b[0m\u001b[0;34m.\u001b[0m\u001b[0mTF_GetBuffer\u001b[0m\u001b[0;34m(\u001b[0m\u001b[0mrun_metadata_ptr\u001b[0m\u001b[0;34m)\u001b[0m\u001b[0;34m\u001b[0m\u001b[0m\n",
      "\u001b[0;32m/usr/local/lib/python3.6/dist-packages/tensorflow/python/client/session.py\u001b[0m in \u001b[0;36m_run\u001b[0;34m(self, handle, fetches, feed_dict, options, run_metadata)\u001b[0m\n\u001b[1;32m   1135\u001b[0m     \u001b[0;32mif\u001b[0m \u001b[0mfinal_fetches\u001b[0m \u001b[0;32mor\u001b[0m \u001b[0mfinal_targets\u001b[0m \u001b[0;32mor\u001b[0m \u001b[0;34m(\u001b[0m\u001b[0mhandle\u001b[0m \u001b[0;32mand\u001b[0m \u001b[0mfeed_dict_tensor\u001b[0m\u001b[0;34m)\u001b[0m\u001b[0;34m:\u001b[0m\u001b[0;34m\u001b[0m\u001b[0m\n\u001b[1;32m   1136\u001b[0m       results = self._do_run(handle, final_targets, final_fetches,\n\u001b[0;32m-> 1137\u001b[0;31m                              feed_dict_tensor, options, run_metadata)\n\u001b[0m\u001b[1;32m   1138\u001b[0m     \u001b[0;32melse\u001b[0m\u001b[0;34m:\u001b[0m\u001b[0;34m\u001b[0m\u001b[0m\n\u001b[1;32m   1139\u001b[0m       \u001b[0mresults\u001b[0m \u001b[0;34m=\u001b[0m \u001b[0;34m[\u001b[0m\u001b[0;34m]\u001b[0m\u001b[0;34m\u001b[0m\u001b[0m\n",
      "\u001b[0;32m/usr/local/lib/python3.6/dist-packages/tensorflow/python/client/session.py\u001b[0m in \u001b[0;36m_do_run\u001b[0;34m(self, handle, target_list, fetch_list, feed_dict, options, run_metadata)\u001b[0m\n\u001b[1;32m   1353\u001b[0m     \u001b[0;32mif\u001b[0m \u001b[0mhandle\u001b[0m \u001b[0;32mis\u001b[0m \u001b[0;32mNone\u001b[0m\u001b[0;34m:\u001b[0m\u001b[0;34m\u001b[0m\u001b[0m\n\u001b[1;32m   1354\u001b[0m       return self._do_call(_run_fn, self._session, feeds, fetches, targets,\n\u001b[0;32m-> 1355\u001b[0;31m                            options, run_metadata)\n\u001b[0m\u001b[1;32m   1356\u001b[0m     \u001b[0;32melse\u001b[0m\u001b[0;34m:\u001b[0m\u001b[0;34m\u001b[0m\u001b[0m\n\u001b[1;32m   1357\u001b[0m       \u001b[0;32mreturn\u001b[0m \u001b[0mself\u001b[0m\u001b[0;34m.\u001b[0m\u001b[0m_do_call\u001b[0m\u001b[0;34m(\u001b[0m\u001b[0m_prun_fn\u001b[0m\u001b[0;34m,\u001b[0m \u001b[0mself\u001b[0m\u001b[0;34m.\u001b[0m\u001b[0m_session\u001b[0m\u001b[0;34m,\u001b[0m \u001b[0mhandle\u001b[0m\u001b[0;34m,\u001b[0m \u001b[0mfeeds\u001b[0m\u001b[0;34m,\u001b[0m \u001b[0mfetches\u001b[0m\u001b[0;34m)\u001b[0m\u001b[0;34m\u001b[0m\u001b[0m\n",
      "\u001b[0;32m/usr/local/lib/python3.6/dist-packages/tensorflow/python/client/session.py\u001b[0m in \u001b[0;36m_do_call\u001b[0;34m(self, fn, *args)\u001b[0m\n\u001b[1;32m   1359\u001b[0m   \u001b[0;32mdef\u001b[0m \u001b[0m_do_call\u001b[0m\u001b[0;34m(\u001b[0m\u001b[0mself\u001b[0m\u001b[0;34m,\u001b[0m \u001b[0mfn\u001b[0m\u001b[0;34m,\u001b[0m \u001b[0;34m*\u001b[0m\u001b[0margs\u001b[0m\u001b[0;34m)\u001b[0m\u001b[0;34m:\u001b[0m\u001b[0;34m\u001b[0m\u001b[0m\n\u001b[1;32m   1360\u001b[0m     \u001b[0;32mtry\u001b[0m\u001b[0;34m:\u001b[0m\u001b[0;34m\u001b[0m\u001b[0m\n\u001b[0;32m-> 1361\u001b[0;31m       \u001b[0;32mreturn\u001b[0m \u001b[0mfn\u001b[0m\u001b[0;34m(\u001b[0m\u001b[0;34m*\u001b[0m\u001b[0margs\u001b[0m\u001b[0;34m)\u001b[0m\u001b[0;34m\u001b[0m\u001b[0m\n\u001b[0m\u001b[1;32m   1362\u001b[0m     \u001b[0;32mexcept\u001b[0m \u001b[0merrors\u001b[0m\u001b[0;34m.\u001b[0m\u001b[0mOpError\u001b[0m \u001b[0;32mas\u001b[0m \u001b[0me\u001b[0m\u001b[0;34m:\u001b[0m\u001b[0;34m\u001b[0m\u001b[0m\n\u001b[1;32m   1363\u001b[0m       \u001b[0mmessage\u001b[0m \u001b[0;34m=\u001b[0m \u001b[0mcompat\u001b[0m\u001b[0;34m.\u001b[0m\u001b[0mas_text\u001b[0m\u001b[0;34m(\u001b[0m\u001b[0me\u001b[0m\u001b[0;34m.\u001b[0m\u001b[0mmessage\u001b[0m\u001b[0;34m)\u001b[0m\u001b[0;34m\u001b[0m\u001b[0m\n",
      "\u001b[0;32m/usr/local/lib/python3.6/dist-packages/tensorflow/python/client/session.py\u001b[0m in \u001b[0;36m_run_fn\u001b[0;34m(session, feed_dict, fetch_list, target_list, options, run_metadata)\u001b[0m\n\u001b[1;32m   1338\u001b[0m         \u001b[0;32melse\u001b[0m\u001b[0;34m:\u001b[0m\u001b[0;34m\u001b[0m\u001b[0m\n\u001b[1;32m   1339\u001b[0m           return tf_session.TF_Run(session, options, feed_dict, fetch_list,\n\u001b[0;32m-> 1340\u001b[0;31m                                    target_list, status, run_metadata)\n\u001b[0m\u001b[1;32m   1341\u001b[0m \u001b[0;34m\u001b[0m\u001b[0m\n\u001b[1;32m   1342\u001b[0m     \u001b[0;32mdef\u001b[0m \u001b[0m_prun_fn\u001b[0m\u001b[0;34m(\u001b[0m\u001b[0msession\u001b[0m\u001b[0;34m,\u001b[0m \u001b[0mhandle\u001b[0m\u001b[0;34m,\u001b[0m \u001b[0mfeed_dict\u001b[0m\u001b[0;34m,\u001b[0m \u001b[0mfetch_list\u001b[0m\u001b[0;34m)\u001b[0m\u001b[0;34m:\u001b[0m\u001b[0;34m\u001b[0m\u001b[0m\n",
      "\u001b[0;31mKeyboardInterrupt\u001b[0m: "
     ]
    }
   ],
   "source": [
    "hist = model.fit(\n",
    "    norm_train_x, norm_train_y,\n",
    "    batch_size=2048, epochs=250,\n",
    "    shuffle=True,\n",
    "    callbacks=[\n",
    "        ReduceLROnPlateau(factor=0.2, verbose=1, min_lr=1e-6),\n",
    "        ModelCheckpoint('dev/models/weights-w.{epoch:04d}-{val_loss:.4f}.hdf5',\n",
    "                        verbose=1, save_best_only=True),\n",
    "        TensorBoard('dev/logs/', write_graph=False, write_grads=True),\n",
    "        EarlyStopping(min_delta=0.0001, patience=30),\n",
    "    ],\n",
    "    validation_data=(norm_test_x, norm_test_y)\n",
    ")"
   ]
  },
  {
   "cell_type": "code",
   "execution_count": 59,
   "metadata": {},
   "outputs": [],
   "source": [
    "def plot_preds(ypred, ytrue):\n",
    "    minn = max(min(ypred), min(ytrue))\n",
    "    maxx = min(max(ypred), max(ytrue))\n",
    "    \n",
    "    plt.scatter(ytrue, ypred, s=2)\n",
    "    plt.plot([minn, maxx], [minn, maxx], 'r--')\n",
    "    plt.xlabel('True')\n",
    "    plt.ylabel('Predicted')\n",
    "    \n",
    "    plt.show()"
   ]
  },
  {
   "cell_type": "code",
   "execution_count": 91,
   "metadata": {},
   "outputs": [
    {
     "data": {
      "image/png": "[encoded data removed]",
      "text/plain": [
       "<matplotlib.figure.Figure at 0x7f39e9372860>"
      ]
     },
     "metadata": {},
     "output_type": "display_data"
    },
    {
     "name": "stdout",
     "output_type": "stream",
     "text": [
      "Explained variance 0.8711198015330996\n",
      "Mean absolute error 0.43046116433517867\n",
      "Mean squared error 0.43789031325265876\n",
      "Median absolute error 0.28402285193515076\n",
      "R2 score 0.8704058092112739\n",
      "Mean absolute percent error [66.71847]\n"
     ]
    }
   ],
   "source": [
    "best_model = load_model('dev/models/weights-w.0008-0.1295.hdf5')\n",
    "y_pred = best_model.predict(norm_test_x)\n",
    "\n",
    "# denormalize\n",
    "test_deno = norm_test_y * std_y + mean_y\n",
    "pred_deno = y_pred * std_y + mean_y\n",
    "\n",
    "plot_preds(pred_deno, test_deno)\n",
    "\n",
    "print('Explained variance', metrics.explained_variance_score(test_deno, pred_deno))\n",
    "print('Mean absolute error', metrics.mean_absolute_error(test_deno, pred_deno))\n",
    "print('Mean squared error', metrics.mean_squared_error(test_deno, pred_deno))\n",
    "print('Median absolute error', metrics.median_absolute_error(test_deno, pred_deno))\n",
    "print('R2 score', metrics.r2_score(test_deno, pred_deno))\n",
    "mape = 100 * sum(abs((yt - yp) / yt) for yt, yp in zip(test_deno, pred_deno)) / len(test_deno)\n",
    "print('Mean absolute percent error', mape)"
   ]
  },
  {
   "cell_type": "code",
   "execution_count": null,
   "metadata": {},
   "outputs": [],
   "source": []
  }
 ],
 "metadata": {
  "kernelspec": {
   "display_name": "Python 3",
   "language": "python",
   "name": "python3"
  },
  "language_info": {
   "codemirror_mode": {
    "name": "ipython",
    "version": 3
   },
   "file_extension": ".py",
   "mimetype": "text/x-python",
   "name": "python",
   "nbconvert_exporter": "python",
   "pygments_lexer": "ipython3",
   "version": "3.6.3"
  }
 },
 "nbformat": 4,
 "nbformat_minor": 2
}
