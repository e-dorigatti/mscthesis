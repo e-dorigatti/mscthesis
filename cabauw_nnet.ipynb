{
 "cells": [
  {
   "cell_type": "code",
   "execution_count": 54,
   "metadata": {},
   "outputs": [],
   "source": [
    "import pandas as pd\n",
    "from hkfold import HKFold\n",
    "from sklearn.model_selection import KFold\n",
    "import matplotlib.pyplot as plt\n",
    "import numpy as np\n",
    "import seaborn as sns\n",
    "sns.set()\n",
    "from keras.layers import PReLU\n",
    "from sklearn.utils import shuffle\n",
    "from keras.optimizers import RMSprop, Adam\n",
    "from keras.callbacks import ReduceLROnPlateau, ModelCheckpoint, TensorBoard, EarlyStopping\n",
    "from keras.models import Sequential\n",
    "from keras.layers import Dense, Dropout, BatchNormalization, GaussianNoise\n",
    "from keras.models import load_model"
   ]
  },
  {
   "cell_type": "code",
   "execution_count": 2,
   "metadata": {},
   "outputs": [],
   "source": [
    "dframe_path = 'data/cabauw/processed.csv.gz'\n",
    "\n",
    "try:\n",
    "    df = pd.read_csv(dframe_path, na_values='--')\n",
    "except UnicodeDecodeError:\n",
    "    df = pd.read_csv(dframe_path, na_values='--', compression='gzip')\n",
    "\n",
    "\n",
    "df = df[(df.ustar > 0.1) & (abs(df.H) > 10) & (df.wind > 1)]\n",
    "df = df[df.ds != 201603]\n",
    "df = df.dropna()"
   ]
  },
  {
   "cell_type": "code",
   "execution_count": 21,
   "metadata": {},
   "outputs": [
    {
     "name": "stdout",
     "output_type": "stream",
     "text": [
      "training with 1646616, testing with 126840\n"
     ]
    }
   ],
   "source": [
    "features = [\n",
    "    'dewpoint', 'spec_hum', 'rel_hum', 'press', 'rain',\n",
    "    'temp', 'soil_temp', 'z', 'air_dens', 'virtual_temp',\n",
    "    'wind',\n",
    "    #'H', 'LE',\n",
    "    #'zL', 'lval',\n",
    "    #'ustar', \n",
    "]\n",
    "\n",
    "target = 'phi_m'\n",
    "\n",
    "test_ds = np.random.choice(df.ds.unique(), 12, replace=False)\n",
    "test_mask = df.ds.isin(test_ds)\n",
    "train_x, train_y = df[~test_mask][features], df[~test_mask][target]\n",
    "test_x, test_y = df[test_mask][features], df[test_mask][target]\n",
    "train_x, train_y = shuffle(train_x, train_y)\n",
    "\n",
    "print('training with %d, testing with %d' % (len(train_x), len(test_x)))"
   ]
  },
  {
   "cell_type": "code",
   "execution_count": 14,
   "metadata": {},
   "outputs": [
    {
     "data": {
      "image/png": "[encoded data removed]",
      "text/plain": [
       "<matplotlib.figure.Figure at 0x7f9268046cc0>"
      ]
     },
     "metadata": {},
     "output_type": "display_data"
    }
   ],
   "source": [
    "plt.scatter(df[~df.ds.isin(test_ds)].zL, df[~df.ds.isin(test_ds)].phi_m, s=2, label='Train')\n",
    "plt.scatter(df[df.ds.isin(test_ds)].zL, df[df.ds.isin(test_ds)].phi_m, s=2, label='Test')\n",
    "plt.legend()\n",
    "plt.show()"
   ]
  },
  {
   "cell_type": "code",
   "execution_count": 22,
   "metadata": {
    "scrolled": true
   },
   "outputs": [],
   "source": [
    "mean_x, mean_y = train_x.mean(), train_y.mean()\n",
    "std_x, std_y = train_x.std(), train_y.std()\n",
    "\n",
    "train_x = (train_x - mean_x) /  std_x\n",
    "test_x = (test_x - mean_x) / std_x\n",
    "\n",
    "train_y = (train_y - mean_y) / std_y\n",
    "test_y = (test_y - mean_y) / std_y"
   ]
  },
  {
   "cell_type": "code",
   "execution_count": 35,
   "metadata": {
    "scrolled": false
   },
   "outputs": [
    {
     "name": "stdout",
     "output_type": "stream",
     "text": [
      "_________________________________________________________________\n",
      "Layer (type)                 Output Shape              Param #   \n",
      "=================================================================\n",
      "dense_55 (Dense)             (None, 1024)              12288     \n",
      "_________________________________________________________________\n",
      "p_re_lu_44 (PReLU)           (None, 1024)              1024      \n",
      "_________________________________________________________________\n",
      "dense_56 (Dense)             (None, 256)               262400    \n",
      "_________________________________________________________________\n",
      "p_re_lu_45 (PReLU)           (None, 256)               256       \n",
      "_________________________________________________________________\n",
      "dense_57 (Dense)             (None, 128)               32896     \n",
      "_________________________________________________________________\n",
      "p_re_lu_46 (PReLU)           (None, 128)               128       \n",
      "_________________________________________________________________\n",
      "dense_58 (Dense)             (None, 32)                4128      \n",
      "_________________________________________________________________\n",
      "p_re_lu_47 (PReLU)           (None, 32)                32        \n",
      "_________________________________________________________________\n",
      "dense_59 (Dense)             (None, 1)                 33        \n",
      "=================================================================\n",
      "Total params: 313,185\n",
      "Trainable params: 313,185\n",
      "Non-trainable params: 0\n",
      "_________________________________________________________________\n"
     ]
    }
   ],
   "source": [
    "model = Sequential([\n",
    "    Dense(1024, input_shape=(len(features),)), PReLU(),\n",
    "    Dense(256), PReLU(),\n",
    "    Dense(128), PReLU(),\n",
    "    Dense(32), PReLU(),\n",
    "    Dense(1)\n",
    "])\n",
    "\n",
    "opt = RMSprop(lr=0.001)\n",
    "model.compile(loss='mse', optimizer=opt)\n",
    "model.summary()"
   ]
  },
  {
   "cell_type": "code",
   "execution_count": 36,
   "metadata": {
    "scrolled": false
   },
   "outputs": [
    {
     "name": "stdout",
     "output_type": "stream",
     "text": [
      "Train on 1646616 samples, validate on 126840 samples\n",
      "Epoch 1/20\n",
      "1640448/1646616 [============================>.] - ETA: 0s - loss: 0.2766\n",
      "Epoch 00001: val_loss improved from inf to 0.29332, saving model to dev/models/weights-w.0001-0.2933.hdf5\n",
      "1646616/1646616 [==============================] - 14s 8us/step - loss: 0.2762 - val_loss: 0.2933\n",
      "Epoch 2/20\n",
      "1646592/1646616 [============================>.] - ETA: 0s - loss: 0.1677\n",
      "Epoch 00002: val_loss improved from 0.29332 to 0.18185, saving model to dev/models/weights-w.0002-0.1818.hdf5\n",
      "1646616/1646616 [==============================] - 13s 8us/step - loss: 0.1677 - val_loss: 0.1818\n",
      "Epoch 3/20\n",
      "1646592/1646616 [============================>.] - ETA: 0s - loss: 0.1488\n",
      "Epoch 00003: val_loss improved from 0.18185 to 0.18038, saving model to dev/models/weights-w.0003-0.1804.hdf5\n",
      "1646616/1646616 [==============================] - 13s 8us/step - loss: 0.1488 - val_loss: 0.1804\n",
      "Epoch 4/20\n",
      "1646592/1646616 [============================>.] - ETA: 0s - loss: 0.1367\n",
      "Epoch 00004: val_loss did not improve\n",
      "1646616/1646616 [==============================] - 13s 8us/step - loss: 0.1367 - val_loss: 0.1805\n",
      "Epoch 5/20\n",
      "1644544/1646616 [============================>.] - ETA: 0s - loss: 0.1273\n",
      "Epoch 00005: val_loss did not improve\n",
      "1646616/1646616 [==============================] - 21s 13us/step - loss: 0.1273 - val_loss: 0.1861\n",
      "Epoch 6/20\n",
      "1646592/1646616 [============================>.] - ETA: 0s - loss: 0.1194\n",
      "Epoch 00006: val_loss did not improve\n",
      "1646616/1646616 [==============================] - 14s 9us/step - loss: 0.1194 - val_loss: 0.2486\n",
      "Epoch 7/20\n",
      "1640448/1646616 [============================>.] - ETA: 0s - loss: 0.1132\n",
      "Epoch 00007: val_loss improved from 0.18038 to 0.15839, saving model to dev/models/weights-w.0007-0.1584.hdf5\n",
      "1646616/1646616 [==============================] - 13s 8us/step - loss: 0.1131 - val_loss: 0.1584\n",
      "Epoch 8/20\n",
      "1640448/1646616 [============================>.] - ETA: 0s - loss: 0.1075\n",
      "Epoch 00008: val_loss did not improve\n",
      "1646616/1646616 [==============================] - 13s 8us/step - loss: 0.1075 - val_loss: 0.1631\n",
      "Epoch 9/20\n",
      "1640448/1646616 [============================>.] - ETA: 0s - loss: 0.1028\n",
      "Epoch 00009: val_loss did not improve\n",
      "1646616/1646616 [==============================] - 13s 8us/step - loss: 0.1028 - val_loss: 0.2159\n",
      "Epoch 10/20\n",
      "1644544/1646616 [============================>.] - ETA: 0s - loss: 0.0987\n",
      "Epoch 00010: val_loss did not improve\n",
      "1646616/1646616 [==============================] - 25s 15us/step - loss: 0.0987 - val_loss: 0.1714\n",
      "Epoch 11/20\n",
      "1646592/1646616 [============================>.] - ETA: 0s - loss: 0.0946\n",
      "Epoch 00011: val_loss did not improve\n",
      "1646616/1646616 [==============================] - 26s 16us/step - loss: 0.0946 - val_loss: 0.2039\n",
      "Epoch 12/20\n",
      "1646592/1646616 [============================>.] - ETA: 0s - loss: 0.0914\n",
      "Epoch 00012: val_loss did not improve\n",
      "1646616/1646616 [==============================] - 26s 16us/step - loss: 0.0914 - val_loss: 0.1838\n",
      "Epoch 13/20\n",
      "1646592/1646616 [============================>.] - ETA: 0s - loss: 0.0887\n",
      "Epoch 00013: val_loss did not improve\n",
      "1646616/1646616 [==============================] - 25s 15us/step - loss: 0.0887 - val_loss: 0.2159\n",
      "Epoch 14/20\n",
      "1644544/1646616 [============================>.] - ETA: 0s - loss: 0.0858\n",
      "Epoch 00014: val_loss did not improve\n",
      "1646616/1646616 [==============================] - 26s 16us/step - loss: 0.0858 - val_loss: 0.1814\n",
      "Epoch 15/20\n",
      "1644544/1646616 [============================>.] - ETA: 0s - loss: 0.0832\n",
      "Epoch 00015: val_loss did not improve\n",
      "1646616/1646616 [==============================] - 25s 15us/step - loss: 0.0832 - val_loss: 0.1902\n",
      "Epoch 16/20\n",
      "1644544/1646616 [============================>.] - ETA: 0s - loss: 0.0809\n",
      "Epoch 00016: val_loss did not improve\n",
      "1646616/1646616 [==============================] - 26s 16us/step - loss: 0.0809 - val_loss: 0.1811\n",
      "Epoch 17/20\n",
      "1646592/1646616 [============================>.] - ETA: 0s - loss: 0.0792\n",
      "Epoch 00017: val_loss did not improve\n",
      "1646616/1646616 [==============================] - 27s 16us/step - loss: 0.0792 - val_loss: 0.1946\n",
      "Epoch 18/20\n",
      "1644544/1646616 [============================>.] - ETA: 0s - loss: 0.0772\n",
      "Epoch 00018: ReduceLROnPlateau reducing learning rate to 0.00020000000949949026.\n",
      "\n",
      "Epoch 00018: val_loss did not improve\n",
      "1646616/1646616 [==============================] - 27s 16us/step - loss: 0.0772 - val_loss: 0.1992\n",
      "Epoch 19/20\n",
      "1646592/1646616 [============================>.] - ETA: 0s - loss: 0.0598\n",
      "Epoch 00019: val_loss did not improve\n",
      "1646616/1646616 [==============================] - 26s 16us/step - loss: 0.0598 - val_loss: 0.1786\n",
      "Epoch 20/20\n",
      "1644544/1646616 [============================>.] - ETA: 0s - loss: 0.0572\n",
      "Epoch 00020: val_loss did not improve\n",
      "1646616/1646616 [==============================] - 27s 16us/step - loss: 0.0572 - val_loss: 0.1847\n"
     ]
    }
   ],
   "source": [
    "hist = model.fit(\n",
    "    train_x, train_y,\n",
    "    batch_size=2048, epochs=20,\n",
    "    shuffle=True,\n",
    "    callbacks=[\n",
    "        ReduceLROnPlateau(factor=0.2, verbose=1, min_lr=1e-6),\n",
    "        ModelCheckpoint('dev/models/weights-w.{epoch:04d}-{val_loss:.4f}.hdf5',\n",
    "                        verbose=1, save_best_only=True),\n",
    "        TensorBoard('dev/logs/', write_graph=False, write_grads=True),\n",
    "        EarlyStopping(min_delta=0.0001, patience=50),\n",
    "    ],\n",
    "    validation_data=(test_x, test_y)\n",
    ")"
   ]
  },
  {
   "cell_type": "code",
   "execution_count": 41,
   "metadata": {},
   "outputs": [],
   "source": [
    "def plot_preds(ypred, ytrue):\n",
    "    minn = max(min(ypred), min(ytrue))\n",
    "    maxx = min(max(ypred), max(ytrue))\n",
    "    \n",
    "    plt.scatter(ytrue, ypred, s=2)\n",
    "    plt.plot([minn, maxx], [minn, maxx], 'r--')\n",
    "    plt.xlabel('True')\n",
    "    plt.ylabel('Predicted')\n",
    "    \n",
    "    plt.show()"
   ]
  },
  {
   "cell_type": "code",
   "execution_count": 55,
   "metadata": {},
   "outputs": [
    {
     "data": {
      "image/png": "[encoded data removed]",
      "text/plain": [
       "<matplotlib.figure.Figure at 0x7f92583c62b0>"
      ]
     },
     "metadata": {},
     "output_type": "display_data"
    },
    {
     "name": "stdout",
     "output_type": "stream",
     "text": [
      "Explained variance 0.8179076602776014\n",
      "Mean absolute error 0.2673959231562781\n",
      "Mean squared error 0.15838770579028716\n",
      "Median absolute error 0.18001211806723388\n",
      "R2 score 0.8159394986172934\n",
      "Mean absolute percent error 121.86270892462946\n"
     ]
    }
   ],
   "source": [
    "best_model = load_model('dev/models/weights-w.0007-0.1584.hdf5')\n",
    "y_pred = best_model.predict(test_x)\n",
    "plot_preds(y_pred, test_y)\n",
    "\n",
    "from sklearn import metrics\n",
    "print('Explained variance', metrics.explained_variance_score(test_y, y_pred))\n",
    "print('Mean absolute error', metrics.mean_absolute_error(test_y, y_pred))\n",
    "print('Mean squared error', metrics.mean_squared_error(test_y, y_pred))\n",
    "print('Median absolute error', metrics.median_absolute_error(test_y, y_pred))\n",
    "print('R2 score', metrics.r2_score(test_y, y_pred))\n",
    "mape = 100 * sum(abs((yt - yp) / yt) for yt, yp in zip(test_y, y_pred)) / test_y.shape\n",
    "print('Mean absolute percent error', mape[0])"
   ]
  },
  {
   "cell_type": "code",
   "execution_count": null,
   "metadata": {},
   "outputs": [],
   "source": []
  }
 ],
 "metadata": {
  "kernelspec": {
   "display_name": "Python 3",
   "language": "python",
   "name": "python3"
  },
  "language_info": {
   "codemirror_mode": {
    "name": "ipython",
    "version": 3
   },
   "file_extension": ".py",
   "mimetype": "text/x-python",
   "name": "python",
   "nbconvert_exporter": "python",
   "pygments_lexer": "ipython3",
   "version": "3.6.3"
  }
 },
 "nbformat": 4,
 "nbformat_minor": 2
}
