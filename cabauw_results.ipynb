{
 "cells": [
  {
   "cell_type": "code",
   "execution_count": 20,
   "metadata": {},
   "outputs": [],
   "source": [
    "import os\n",
    "import seaborn as sns\n",
    "sns.set()\n",
    "import pandas as pd\n",
    "import numpy as np\n",
    "import matplotlib.pyplot as plt\n",
    "from collections import defaultdict\n",
    "from io import StringIO\n",
    "import re"
   ]
  },
  {
   "cell_type": "code",
   "execution_count": 32,
   "metadata": {},
   "outputs": [],
   "source": [
    "def get_results(res_path):\n",
    "    # group file names by configuration\n",
    "    results_by_specs = defaultdict(list)\n",
    "    for fname in os.listdir(res_path):\n",
    "        if not fname.endswith('.txt'):\n",
    "            continue\n",
    "\n",
    "        try:\n",
    "            spec, day, hour = fname[:-len('.txt')].split('-')\n",
    "            model, features, trend, most = spec.split('_')\n",
    "        except:\n",
    "            print('skipping', fname)\n",
    "\n",
    "        results_by_specs[(model, features, trend, most)].append(fname)\n",
    "    \n",
    "    # for each config, find and parse most recent result file\n",
    "    results = {}\n",
    "    for spec, files in results_by_specs.items():\n",
    "        res_file, res_lines, found = list(sorted(files))[-1], [], False\n",
    "        with open(os.path.join(res_path, res_file)) as f:\n",
    "            for row in f:\n",
    "                rr = row.strip()\n",
    "                if found and rr:\n",
    "                    res_lines.append(rr)\n",
    "                elif rr.startswith('**raw scores'):\n",
    "                    found = True\n",
    "                elif rr.startswith('**raw json results'):\n",
    "                    break\n",
    "            \n",
    "        assert res_lines\n",
    "        csv_text = re.sub('[ \\t]+', ',', '\\n'.join(res_lines))\n",
    "        results[spec] = pd.read_csv(StringIO(csv_text))\n",
    "    \n",
    "    return results\n",
    "\n",
    "\n",
    "\n",
    "    boxes: the main body of the boxplot showing the quartiles and the median’s confidence intervals if enabled.\n",
    "    medians: horizontal lines at the median of each box.\n",
    "    whiskers: the vertical lines extending to the most extreme, non-outlier data points.\n",
    "    caps: the horizontal lines at the ends of the whiskers.\n",
    "    fliers: points representing data that extend beyond the whiskers (fliers).\n",
    "    means: points or lines representing the means.\n",
    "res = get_results('data/cabauw/results')"
   ]
  },
  {
   "cell_type": "code",
   "execution_count": 296,
   "metadata": {},
   "outputs": [],
   "source": [
    "def paint_boxplot(bplot, all_color=None, **kwargs):\n",
    "    # use all_color to paing all elements of the same color\n",
    "    # or specify color for each element in kwargs\n",
    "    # kwargs take precedence over all_color\n",
    "    #\n",
    "    # NB available elements are\n",
    "    # boxes, medians, whiskers, caps, fliers, means\n",
    "\n",
    "    for key in bplot:\n",
    "        color = kwargs.get(key, all_color)\n",
    "        if color:\n",
    "            for element in bplot[key]:\n",
    "                if key == 'boxes':\n",
    "                    import pdb;\n",
    "                element.set_color(color)\n",
    "\n",
    "\n",
    "def make_base_plot(res, estimator, most, metric, save_path=None):\n",
    "    most = 'most' if most else 'nomost'\n",
    "    plot_data, found = [], False\n",
    "    for features in range(1, 6):\n",
    "        ktrend = estimator, 'f%d' % features, 'trend', most\n",
    "        if ktrend in res:\n",
    "            plot_data.append(res[ktrend][metric].values)\n",
    "            found = True\n",
    "        else:\n",
    "            plot_data.append([])\n",
    "\n",
    "        knotrend = estimator, 'f%d' % features, 'notrend', most\n",
    "        if knotrend in res:\n",
    "            plot_data.append(res[knotrend][metric].values)\n",
    "            found = True\n",
    "        else:\n",
    "            plot_data.append([])\n",
    "\n",
    "    assert found, 'no results'\n",
    "            \n",
    "    fig, ax = plt.subplots()\n",
    "\n",
    "    # trend\n",
    "    bp1 = ax.boxplot(plot_data[::2], positions=range(0, 15, 3), showmeans=True, patch_artist=True)\n",
    "    paint_boxplot(bp1, boxes='C0', medians='C2')\n",
    "\n",
    "    # no trend\n",
    "    bp2 = ax.boxplot(plot_data[1::2], positions=range(1, 15, 3), showmeans=True, patch_artist=True)\n",
    "    paint_boxplot(bp2, boxes='C1', medians='C2')\n",
    "    \n",
    "    most_mean, most_std = 0.332056, 0.017246\n",
    "    bot, top = most_mean - 2 * most_std, most_mean + 2 * most_std\n",
    "    plt.plot([-1, 14], [most_mean, most_mean], c='C4')\n",
    "    ax.fill_between([-1, 14], [bot, bot], [top, top], alpha=0.25, color='C4')\n",
    "    \n",
    "    ax.set_xlim(-1, 14)\n",
    "    ax.set_xticks([0.5, 3.5, 6.5, 9.5, 12.5])\n",
    "    ax.set_xticklabels(['F1', 'F2', 'F3', 'F4', 'F5'])\n",
    "    \n",
    "    if save_path is not None:\n",
    "        fig.savefig(os.path.join(\n",
    "            save_path, '%s_%s_%s.png' % (estimator, most, metric)\n",
    "        ))\n",
    "        \n",
    "    return fig, ax"
   ]
  },
  {
   "cell_type": "code",
   "execution_count": 299,
   "metadata": {},
   "outputs": [
    {
     "data": {
      "image/png": "[encoded data removed]",
      "text/plain": [
       "<Figure size 432x288 with 1 Axes>"
      ]
     },
     "metadata": {},
     "output_type": "display_data"
    }
   ],
   "source": [
    "fig, ax = make_base_plot(res, 'Ridge', True, 'mean_squared_error', 'data/')\n",
    "#fig, ax = make_base_plot(res, 'KNeighborsRegressor', True, 'mean_squared_error', 'data/')"
   ]
  },
  {
   "cell_type": "code",
   "execution_count": null,
   "metadata": {},
   "outputs": [],
   "source": []
  }
 ],
 "metadata": {
  "kernelspec": {
   "display_name": "Python 3",
   "language": "python",
   "name": "python3"
  },
  "language_info": {
   "codemirror_mode": {
    "name": "ipython",
    "version": 3
   },
   "file_extension": ".py",
   "mimetype": "text/x-python",
   "name": "python",
   "nbconvert_exporter": "python",
   "pygments_lexer": "ipython3",
   "version": "3.6.4"
  }
 },
 "nbformat": 4,
 "nbformat_minor": 2
}
